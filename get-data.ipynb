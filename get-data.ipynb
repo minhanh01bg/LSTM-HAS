{
 "cells": [
  {
   "cell_type": "code",
   "execution_count": 6,
   "metadata": {},
   "outputs": [
    {
     "name": "stdout",
     "output_type": "stream",
     "text": [
      "Downloading https://s3.amazonaws.com/kinetics/400/test/k400_test_path.txt to ./data\\files\\k400_test_path.txt\n"
     ]
    },
    {
     "name": "stderr",
     "output_type": "stream",
     "text": [
      "100%|██████████| 2252/2252 [00:00<?, ?it/s]\n"
     ]
    },
    {
     "name": "stdout",
     "output_type": "stream",
     "text": [
      "Downloading https://s3.amazonaws.com/kinetics/400/test/part_0.tar.gz to ./data\\tars\\part_0.tar.gz\n"
     ]
    },
    {
     "name": "stderr",
     "output_type": "stream",
     "text": [
      "100%|██████████| 1605689786/1605689786 [10:46<00:00, 2483804.79it/s]\n"
     ]
    },
    {
     "name": "stdout",
     "output_type": "stream",
     "text": [
      "Extracting ./data\\tars\\part_0.tar.gz to ./data\\test\n",
      "Downloading https://s3.amazonaws.com/kinetics/400/test/part_1.tar.gz to ./data\\tars\\part_1.tar.gz\n"
     ]
    },
    {
     "name": "stderr",
     "output_type": "stream",
     "text": [
      "100%|██████████| 1452127095/1452127095 [06:52<00:00, 3520541.51it/s]\n"
     ]
    },
    {
     "name": "stdout",
     "output_type": "stream",
     "text": [
      "Extracting ./data\\tars\\part_1.tar.gz to ./data\\test\n",
      "Downloading https://s3.amazonaws.com/kinetics/400/test/part_2.tar.gz to ./data\\tars\\part_2.tar.gz\n"
     ]
    },
    {
     "name": "stderr",
     "output_type": "stream",
     "text": [
      "100%|██████████| 1472234731/1472234731 [07:10<00:00, 3418484.48it/s]\n"
     ]
    },
    {
     "name": "stdout",
     "output_type": "stream",
     "text": [
      "Extracting ./data\\tars\\part_2.tar.gz to ./data\\test\n",
      "Downloading https://s3.amazonaws.com/kinetics/400/test/part_3.tar.gz to ./data\\tars\\part_3.tar.gz\n"
     ]
    },
    {
     "name": "stderr",
     "output_type": "stream",
     "text": [
      "100%|██████████| 1382971873/1382971873 [08:33<00:00, 2694304.38it/s]\n"
     ]
    },
    {
     "name": "stdout",
     "output_type": "stream",
     "text": [
      "Extracting ./data\\tars\\part_3.tar.gz to ./data\\test\n",
      "Downloading https://s3.amazonaws.com/kinetics/400/test/part_4.tar.gz to ./data\\tars\\part_4.tar.gz\n"
     ]
    },
    {
     "name": "stderr",
     "output_type": "stream",
     "text": [
      "100%|██████████| 1375883520/1375883520 [15:41<00:00, 1461637.34it/s]\n"
     ]
    },
    {
     "name": "stdout",
     "output_type": "stream",
     "text": [
      "Extracting ./data\\tars\\part_4.tar.gz to ./data\\test\n",
      "Downloading https://s3.amazonaws.com/kinetics/400/test/part_5.tar.gz to ./data\\tars\\part_5.tar.gz\n"
     ]
    },
    {
     "name": "stderr",
     "output_type": "stream",
     "text": [
      "100%|██████████| 1407080577/1407080577 [23:25<00:00, 1001129.53it/s]\n"
     ]
    },
    {
     "name": "stdout",
     "output_type": "stream",
     "text": [
      "Extracting ./data\\tars\\part_5.tar.gz to ./data\\test\n",
      "Downloading https://s3.amazonaws.com/kinetics/400/test/part_6.tar.gz to ./data\\tars\\part_6.tar.gz\n"
     ]
    },
    {
     "name": "stderr",
     "output_type": "stream",
     "text": [
      "100%|██████████| 1527057063/1527057063 [14:08<00:00, 1800550.82it/s]\n"
     ]
    },
    {
     "name": "stdout",
     "output_type": "stream",
     "text": [
      "Extracting ./data\\tars\\part_6.tar.gz to ./data\\test\n",
      "Downloading https://s3.amazonaws.com/kinetics/400/test/part_7.tar.gz to ./data\\tars\\part_7.tar.gz\n"
     ]
    },
    {
     "name": "stderr",
     "output_type": "stream",
     "text": [
      "100%|██████████| 1395596861/1395596861 [21:27<00:00, 1084330.93it/s]\n"
     ]
    },
    {
     "name": "stdout",
     "output_type": "stream",
     "text": [
      "Extracting ./data\\tars\\part_7.tar.gz to ./data\\test\n",
      "Downloading https://s3.amazonaws.com/kinetics/400/test/part_8.tar.gz to ./data\\tars\\part_8.tar.gz\n"
     ]
    },
    {
     "name": "stderr",
     "output_type": "stream",
     "text": [
      "100%|██████████| 1384923578/1384923578 [31:07<00:00, 741434.39it/s] \n"
     ]
    },
    {
     "name": "stdout",
     "output_type": "stream",
     "text": [
      "Extracting ./data\\tars\\part_8.tar.gz to ./data\\test\n",
      "Downloading https://s3.amazonaws.com/kinetics/400/test/part_9.tar.gz to ./data\\tars\\part_9.tar.gz\n"
     ]
    },
    {
     "name": "stderr",
     "output_type": "stream",
     "text": [
      "100%|██████████| 1468365259/1468365259 [26:01<00:00, 940495.34it/s]  \n"
     ]
    },
    {
     "name": "stdout",
     "output_type": "stream",
     "text": [
      "Extracting ./data\\tars\\part_9.tar.gz to ./data\\test\n",
      "Downloading https://s3.amazonaws.com/kinetics/400/test/part_10.tar.gz to ./data\\tars\\part_10.tar.gz\n"
     ]
    },
    {
     "name": "stderr",
     "output_type": "stream",
     "text": [
      "100%|██████████| 1494723008/1494723008 [09:38<00:00, 2583841.79it/s]\n"
     ]
    },
    {
     "name": "stdout",
     "output_type": "stream",
     "text": [
      "Extracting ./data\\tars\\part_10.tar.gz to ./data\\test\n",
      "Downloading https://s3.amazonaws.com/kinetics/400/test/part_11.tar.gz to ./data\\tars\\part_11.tar.gz\n"
     ]
    },
    {
     "name": "stderr",
     "output_type": "stream",
     "text": [
      "100%|██████████| 1401991806/1401991806 [13:15<00:00, 1763069.01it/s]\n"
     ]
    },
    {
     "name": "stdout",
     "output_type": "stream",
     "text": [
      "Extracting ./data\\tars\\part_11.tar.gz to ./data\\test\n",
      "Downloading https://s3.amazonaws.com/kinetics/400/test/part_12.tar.gz to ./data\\tars\\part_12.tar.gz\n"
     ]
    },
    {
     "name": "stderr",
     "output_type": "stream",
     "text": [
      "100%|██████████| 1457451304/1457451304 [14:42<00:00, 1651662.44it/s]\n"
     ]
    },
    {
     "name": "stdout",
     "output_type": "stream",
     "text": [
      "Extracting ./data\\tars\\part_12.tar.gz to ./data\\test\n",
      "Downloading https://s3.amazonaws.com/kinetics/400/test/part_13.tar.gz to ./data\\tars\\part_13.tar.gz\n"
     ]
    },
    {
     "name": "stderr",
     "output_type": "stream",
     "text": [
      "100%|██████████| 1432319925/1432319925 [12:33<00:00, 1900861.35it/s]\n"
     ]
    },
    {
     "name": "stdout",
     "output_type": "stream",
     "text": [
      "Extracting ./data\\tars\\part_13.tar.gz to ./data\\test\n",
      "Downloading https://s3.amazonaws.com/kinetics/400/test/part_14.tar.gz to ./data\\tars\\part_14.tar.gz\n"
     ]
    },
    {
     "name": "stderr",
     "output_type": "stream",
     "text": [
      "100%|██████████| 1431472909/1431472909 [13:04<00:00, 1825356.07it/s] \n"
     ]
    },
    {
     "name": "stdout",
     "output_type": "stream",
     "text": [
      "Extracting ./data\\tars\\part_14.tar.gz to ./data\\test\n",
      "Downloading https://s3.amazonaws.com/kinetics/400/test/part_15.tar.gz to ./data\\tars\\part_15.tar.gz\n"
     ]
    },
    {
     "name": "stderr",
     "output_type": "stream",
     "text": [
      "100%|██████████| 1406985577/1406985577 [12:44<00:00, 1840524.42it/s]\n"
     ]
    },
    {
     "name": "stdout",
     "output_type": "stream",
     "text": [
      "Extracting ./data\\tars\\part_15.tar.gz to ./data\\test\n",
      "Downloading https://s3.amazonaws.com/kinetics/400/test/part_16.tar.gz to ./data\\tars\\part_16.tar.gz\n"
     ]
    },
    {
     "name": "stderr",
     "output_type": "stream",
     "text": [
      "100%|██████████| 1428021558/1428021558 [12:41<00:00, 1875767.40it/s]\n"
     ]
    },
    {
     "name": "stdout",
     "output_type": "stream",
     "text": [
      "Extracting ./data\\tars\\part_16.tar.gz to ./data\\test\n",
      "Downloading https://s3.amazonaws.com/kinetics/400/test/part_17.tar.gz to ./data\\tars\\part_17.tar.gz\n"
     ]
    },
    {
     "name": "stderr",
     "output_type": "stream",
     "text": [
      "100%|██████████| 1426893519/1426893519 [09:25<00:00, 2522665.27it/s] \n"
     ]
    },
    {
     "name": "stdout",
     "output_type": "stream",
     "text": [
      "Extracting ./data\\tars\\part_17.tar.gz to ./data\\test\n",
      "Downloading https://s3.amazonaws.com/kinetics/400/test/part_18.tar.gz to ./data\\tars\\part_18.tar.gz\n"
     ]
    },
    {
     "name": "stderr",
     "output_type": "stream",
     "text": [
      "100%|██████████| 1453838355/1453838355 [07:29<00:00, 3237277.10it/s]\n"
     ]
    },
    {
     "name": "stdout",
     "output_type": "stream",
     "text": [
      "Extracting ./data\\tars\\part_18.tar.gz to ./data\\test\n",
      "Downloading https://s3.amazonaws.com/kinetics/400/test/part_19.tar.gz to ./data\\tars\\part_19.tar.gz\n"
     ]
    },
    {
     "name": "stderr",
     "output_type": "stream",
     "text": [
      "100%|██████████| 1446519518/1446519518 [14:05<00:00, 1710893.42it/s]\n"
     ]
    },
    {
     "name": "stdout",
     "output_type": "stream",
     "text": [
      "Extracting ./data\\tars\\part_19.tar.gz to ./data\\test\n",
      "Downloading https://s3.amazonaws.com/kinetics/400/test/part_20.tar.gz to ./data\\tars\\part_20.tar.gz\n"
     ]
    },
    {
     "name": "stderr",
     "output_type": "stream",
     "text": [
      "100%|██████████| 1436880398/1436880398 [21:03<00:00, 1136839.42it/s] \n"
     ]
    },
    {
     "name": "stdout",
     "output_type": "stream",
     "text": [
      "Extracting ./data\\tars\\part_20.tar.gz to ./data\\test\n",
      "Downloading https://s3.amazonaws.com/kinetics/400/test/part_21.tar.gz to ./data\\tars\\part_21.tar.gz\n"
     ]
    },
    {
     "name": "stderr",
     "output_type": "stream",
     "text": [
      "100%|██████████| 1421534035/1421534035 [23:03<00:00, 1027192.76it/s]\n"
     ]
    },
    {
     "name": "stdout",
     "output_type": "stream",
     "text": [
      "Extracting ./data\\tars\\part_21.tar.gz to ./data\\test\n",
      "Downloading https://s3.amazonaws.com/kinetics/400/test/part_22.tar.gz to ./data\\tars\\part_22.tar.gz\n"
     ]
    },
    {
     "name": "stderr",
     "output_type": "stream",
     "text": [
      "100%|██████████| 1421960789/1421960789 [11:52<00:00, 1995675.87it/s]\n"
     ]
    },
    {
     "name": "stdout",
     "output_type": "stream",
     "text": [
      "Extracting ./data\\tars\\part_22.tar.gz to ./data\\test\n",
      "Downloading https://s3.amazonaws.com/kinetics/400/test/part_23.tar.gz to ./data\\tars\\part_23.tar.gz\n"
     ]
    },
    {
     "name": "stderr",
     "output_type": "stream",
     "text": [
      "100%|██████████| 1414985436/1414985436 [15:31<00:00, 1519799.16it/s]\n"
     ]
    },
    {
     "name": "stdout",
     "output_type": "stream",
     "text": [
      "Extracting ./data\\tars\\part_23.tar.gz to ./data\\test\n",
      "Downloading https://s3.amazonaws.com/kinetics/400/test/part_24.tar.gz to ./data\\tars\\part_24.tar.gz\n"
     ]
    },
    {
     "name": "stderr",
     "output_type": "stream",
     "text": [
      "100%|██████████| 1483721309/1483721309 [18:31<00:00, 1334334.97it/s]\n"
     ]
    },
    {
     "name": "stdout",
     "output_type": "stream",
     "text": [
      "Extracting ./data\\tars\\part_24.tar.gz to ./data\\test\n",
      "Downloading https://s3.amazonaws.com/kinetics/400/test/part_25.tar.gz to ./data\\tars\\part_25.tar.gz\n"
     ]
    },
    {
     "name": "stderr",
     "output_type": "stream",
     "text": [
      "100%|██████████| 1423659097/1423659097 [22:18<00:00, 1063327.99it/s]\n"
     ]
    },
    {
     "name": "stdout",
     "output_type": "stream",
     "text": [
      "Extracting ./data\\tars\\part_25.tar.gz to ./data\\test\n",
      "Downloading https://s3.amazonaws.com/kinetics/400/test/part_26.tar.gz to ./data\\tars\\part_26.tar.gz\n"
     ]
    },
    {
     "name": "stderr",
     "output_type": "stream",
     "text": [
      "100%|██████████| 1522025545/1522025545 [11:18<00:00, 2242413.07it/s]\n"
     ]
    },
    {
     "name": "stdout",
     "output_type": "stream",
     "text": [
      "Extracting ./data\\tars\\part_26.tar.gz to ./data\\test\n",
      "Downloading https://s3.amazonaws.com/kinetics/400/test/part_27.tar.gz to ./data\\tars\\part_27.tar.gz\n"
     ]
    },
    {
     "name": "stderr",
     "output_type": "stream",
     "text": [
      "100%|██████████| 1426016851/1426016851 [18:25<00:00, 1289872.88it/s]\n"
     ]
    },
    {
     "name": "stdout",
     "output_type": "stream",
     "text": [
      "Extracting ./data\\tars\\part_27.tar.gz to ./data\\test\n"
     ]
    },
    {
     "ename": "OSError",
     "evalue": "[Errno 28] No space left on device",
     "output_type": "error",
     "traceback": [
      "\u001b[1;31m---------------------------------------------------------------------------\u001b[0m",
      "\u001b[1;31mOSError\u001b[0m                                   Traceback (most recent call last)",
      "Cell \u001b[1;32mIn[6], line 3\u001b[0m\n\u001b[0;32m      1\u001b[0m \u001b[38;5;28;01mimport\u001b[39;00m \u001b[38;5;21;01mtorchvision\u001b[39;00m\n\u001b[1;32m----> 3\u001b[0m \u001b[43mtorchvision\u001b[49m\u001b[38;5;241;43m.\u001b[39;49m\u001b[43mdatasets\u001b[49m\u001b[38;5;241;43m.\u001b[39;49m\u001b[43mKinetics\u001b[49m\u001b[43m(\u001b[49m\u001b[43mroot\u001b[49m\u001b[38;5;241;43m=\u001b[39;49m\u001b[38;5;124;43m'\u001b[39;49m\u001b[38;5;124;43m./data\u001b[39;49m\u001b[38;5;124;43m'\u001b[39;49m\u001b[43m,\u001b[49m\u001b[43mframes_per_clip\u001b[49m\u001b[38;5;241;43m=\u001b[39;49m\u001b[38;5;241;43m5\u001b[39;49m\u001b[43m,\u001b[49m\u001b[43mstep_between_clips\u001b[49m\u001b[38;5;241;43m=\u001b[39;49m\u001b[38;5;241;43m5\u001b[39;49m\u001b[43m,\u001b[49m\u001b[43mnum_classes\u001b[49m\u001b[38;5;241;43m=\u001b[39;49m\u001b[38;5;124;43m'\u001b[39;49m\u001b[38;5;124;43m400\u001b[39;49m\u001b[38;5;124;43m'\u001b[39;49m\u001b[43m,\u001b[49m\u001b[43msplit\u001b[49m\u001b[38;5;241;43m=\u001b[39;49m\u001b[38;5;124;43m'\u001b[39;49m\u001b[38;5;124;43mtest\u001b[39;49m\u001b[38;5;124;43m'\u001b[39;49m\u001b[43m,\u001b[49m\u001b[43mdownload\u001b[49m\u001b[38;5;241;43m=\u001b[39;49m\u001b[38;5;28;43;01mTrue\u001b[39;49;00m\u001b[43m)\u001b[49m\n",
      "File \u001b[1;32mc:\\Users\\vuanh\\anaconda3\\envs\\llama\\lib\\site-packages\\torchvision\\datasets\\kinetics.py:134\u001b[0m, in \u001b[0;36mKinetics.__init__\u001b[1;34m(self, root, frames_per_clip, num_classes, split, frame_rate, step_between_clips, transform, extensions, download, num_download_workers, num_workers, _precomputed_metadata, _video_width, _video_height, _video_min_dimension, _audio_samples, _audio_channels, _legacy, output_format)\u001b[0m\n\u001b[0;32m    131\u001b[0m     \u001b[38;5;28mself\u001b[39m\u001b[38;5;241m.\u001b[39msplit \u001b[38;5;241m=\u001b[39m verify_str_arg(split, arg\u001b[38;5;241m=\u001b[39m\u001b[38;5;124m\"\u001b[39m\u001b[38;5;124msplit\u001b[39m\u001b[38;5;124m\"\u001b[39m, valid_values\u001b[38;5;241m=\u001b[39m[\u001b[38;5;124m\"\u001b[39m\u001b[38;5;124mtrain\u001b[39m\u001b[38;5;124m\"\u001b[39m, \u001b[38;5;124m\"\u001b[39m\u001b[38;5;124mval\u001b[39m\u001b[38;5;124m\"\u001b[39m, \u001b[38;5;124m\"\u001b[39m\u001b[38;5;124mtest\u001b[39m\u001b[38;5;124m\"\u001b[39m])\n\u001b[0;32m    133\u001b[0m \u001b[38;5;28;01mif\u001b[39;00m download:\n\u001b[1;32m--> 134\u001b[0m     \u001b[38;5;28;43mself\u001b[39;49m\u001b[38;5;241;43m.\u001b[39;49m\u001b[43mdownload_and_process_videos\u001b[49m\u001b[43m(\u001b[49m\u001b[43m)\u001b[49m\n\u001b[0;32m    136\u001b[0m \u001b[38;5;28msuper\u001b[39m()\u001b[38;5;241m.\u001b[39m\u001b[38;5;21m__init__\u001b[39m(\u001b[38;5;28mself\u001b[39m\u001b[38;5;241m.\u001b[39mroot)\n\u001b[0;32m    138\u001b[0m \u001b[38;5;28mself\u001b[39m\u001b[38;5;241m.\u001b[39mclasses, class_to_idx \u001b[38;5;241m=\u001b[39m find_classes(\u001b[38;5;28mself\u001b[39m\u001b[38;5;241m.\u001b[39msplit_folder)\n",
      "File \u001b[1;32mc:\\Users\\vuanh\\anaconda3\\envs\\llama\\lib\\site-packages\\torchvision\\datasets\\kinetics.py:160\u001b[0m, in \u001b[0;36mKinetics.download_and_process_videos\u001b[1;34m(self)\u001b[0m\n\u001b[0;32m    158\u001b[0m \u001b[38;5;250m\u001b[39m\u001b[38;5;124;03m\"\"\"Downloads all the videos to the _root_ folder in the expected format.\"\"\"\u001b[39;00m\n\u001b[0;32m    159\u001b[0m tic \u001b[38;5;241m=\u001b[39m time\u001b[38;5;241m.\u001b[39mtime()\n\u001b[1;32m--> 160\u001b[0m \u001b[38;5;28;43mself\u001b[39;49m\u001b[38;5;241;43m.\u001b[39;49m\u001b[43m_download_videos\u001b[49m\u001b[43m(\u001b[49m\u001b[43m)\u001b[49m\n\u001b[0;32m    161\u001b[0m toc \u001b[38;5;241m=\u001b[39m time\u001b[38;5;241m.\u001b[39mtime()\n\u001b[0;32m    162\u001b[0m \u001b[38;5;28mprint\u001b[39m(\u001b[38;5;124m\"\u001b[39m\u001b[38;5;124mElapsed time for downloading in mins \u001b[39m\u001b[38;5;124m\"\u001b[39m, (toc \u001b[38;5;241m-\u001b[39m tic) \u001b[38;5;241m/\u001b[39m \u001b[38;5;241m60\u001b[39m)\n",
      "File \u001b[1;32mc:\\Users\\vuanh\\anaconda3\\envs\\llama\\lib\\site-packages\\torchvision\\datasets\\kinetics.py:192\u001b[0m, in \u001b[0;36mKinetics._download_videos\u001b[1;34m(self)\u001b[0m\n\u001b[0;32m    190\u001b[0m \u001b[38;5;28;01mif\u001b[39;00m \u001b[38;5;28mself\u001b[39m\u001b[38;5;241m.\u001b[39mnum_download_workers \u001b[38;5;241m==\u001b[39m \u001b[38;5;241m1\u001b[39m:\n\u001b[0;32m    191\u001b[0m     \u001b[38;5;28;01mfor\u001b[39;00m line \u001b[38;5;129;01min\u001b[39;00m list_video_urls:\n\u001b[1;32m--> 192\u001b[0m         \u001b[43mdownload_and_extract_archive\u001b[49m\u001b[43m(\u001b[49m\u001b[43mline\u001b[49m\u001b[43m,\u001b[49m\u001b[43m \u001b[49m\u001b[43mtar_path\u001b[49m\u001b[43m,\u001b[49m\u001b[43m \u001b[49m\u001b[38;5;28;43mself\u001b[39;49m\u001b[38;5;241;43m.\u001b[39;49m\u001b[43msplit_folder\u001b[49m\u001b[43m)\u001b[49m\n\u001b[0;32m    193\u001b[0m \u001b[38;5;28;01melse\u001b[39;00m:\n\u001b[0;32m    194\u001b[0m     part \u001b[38;5;241m=\u001b[39m partial(_dl_wrap, tar_path, \u001b[38;5;28mself\u001b[39m\u001b[38;5;241m.\u001b[39msplit_folder)\n",
      "File \u001b[1;32mc:\\Users\\vuanh\\anaconda3\\envs\\llama\\lib\\site-packages\\torchvision\\datasets\\utils.py:438\u001b[0m, in \u001b[0;36mdownload_and_extract_archive\u001b[1;34m(url, download_root, extract_root, filename, md5, remove_finished)\u001b[0m\n\u001b[0;32m    436\u001b[0m archive \u001b[38;5;241m=\u001b[39m os\u001b[38;5;241m.\u001b[39mpath\u001b[38;5;241m.\u001b[39mjoin(download_root, filename)\n\u001b[0;32m    437\u001b[0m \u001b[38;5;28mprint\u001b[39m(\u001b[38;5;124mf\u001b[39m\u001b[38;5;124m\"\u001b[39m\u001b[38;5;124mExtracting \u001b[39m\u001b[38;5;132;01m{\u001b[39;00marchive\u001b[38;5;132;01m}\u001b[39;00m\u001b[38;5;124m to \u001b[39m\u001b[38;5;132;01m{\u001b[39;00mextract_root\u001b[38;5;132;01m}\u001b[39;00m\u001b[38;5;124m\"\u001b[39m)\n\u001b[1;32m--> 438\u001b[0m \u001b[43mextract_archive\u001b[49m\u001b[43m(\u001b[49m\u001b[43marchive\u001b[49m\u001b[43m,\u001b[49m\u001b[43m \u001b[49m\u001b[43mextract_root\u001b[49m\u001b[43m,\u001b[49m\u001b[43m \u001b[49m\u001b[43mremove_finished\u001b[49m\u001b[43m)\u001b[49m\n",
      "File \u001b[1;32mc:\\Users\\vuanh\\anaconda3\\envs\\llama\\lib\\site-packages\\torchvision\\datasets\\utils.py:413\u001b[0m, in \u001b[0;36mextract_archive\u001b[1;34m(from_path, to_path, remove_finished)\u001b[0m\n\u001b[0;32m    410\u001b[0m \u001b[38;5;66;03m# We don't need to check for a missing key here, since this was already done in _detect_file_type()\u001b[39;00m\n\u001b[0;32m    411\u001b[0m extractor \u001b[38;5;241m=\u001b[39m _ARCHIVE_EXTRACTORS[archive_type]\n\u001b[1;32m--> 413\u001b[0m \u001b[43mextractor\u001b[49m\u001b[43m(\u001b[49m\u001b[43mfrom_path\u001b[49m\u001b[43m,\u001b[49m\u001b[43m \u001b[49m\u001b[43mto_path\u001b[49m\u001b[43m,\u001b[49m\u001b[43m \u001b[49m\u001b[43mcompression\u001b[49m\u001b[43m)\u001b[49m\n\u001b[0;32m    414\u001b[0m \u001b[38;5;28;01mif\u001b[39;00m remove_finished:\n\u001b[0;32m    415\u001b[0m     os\u001b[38;5;241m.\u001b[39mremove(from_path)\n",
      "File \u001b[1;32mc:\\Users\\vuanh\\anaconda3\\envs\\llama\\lib\\site-packages\\torchvision\\datasets\\utils.py:277\u001b[0m, in \u001b[0;36m_extract_tar\u001b[1;34m(from_path, to_path, compression)\u001b[0m\n\u001b[0;32m    275\u001b[0m \u001b[38;5;28;01mdef\u001b[39;00m \u001b[38;5;21m_extract_tar\u001b[39m(from_path: \u001b[38;5;28mstr\u001b[39m, to_path: \u001b[38;5;28mstr\u001b[39m, compression: Optional[\u001b[38;5;28mstr\u001b[39m]) \u001b[38;5;241m-\u001b[39m\u001b[38;5;241m>\u001b[39m \u001b[38;5;28;01mNone\u001b[39;00m:\n\u001b[0;32m    276\u001b[0m     \u001b[38;5;28;01mwith\u001b[39;00m tarfile\u001b[38;5;241m.\u001b[39mopen(from_path, \u001b[38;5;124mf\u001b[39m\u001b[38;5;124m\"\u001b[39m\u001b[38;5;124mr:\u001b[39m\u001b[38;5;132;01m{\u001b[39;00mcompression[\u001b[38;5;241m1\u001b[39m:]\u001b[38;5;132;01m}\u001b[39;00m\u001b[38;5;124m\"\u001b[39m \u001b[38;5;28;01mif\u001b[39;00m compression \u001b[38;5;28;01melse\u001b[39;00m \u001b[38;5;124m\"\u001b[39m\u001b[38;5;124mr\u001b[39m\u001b[38;5;124m\"\u001b[39m) \u001b[38;5;28;01mas\u001b[39;00m tar:\n\u001b[1;32m--> 277\u001b[0m         \u001b[43mtar\u001b[49m\u001b[38;5;241;43m.\u001b[39;49m\u001b[43mextractall\u001b[49m\u001b[43m(\u001b[49m\u001b[43mto_path\u001b[49m\u001b[43m)\u001b[49m\n",
      "File \u001b[1;32mc:\\Users\\vuanh\\anaconda3\\envs\\llama\\lib\\tarfile.py:2264\u001b[0m, in \u001b[0;36mTarFile.extractall\u001b[1;34m(self, path, members, numeric_owner, filter)\u001b[0m\n\u001b[0;32m   2259\u001b[0m     \u001b[38;5;28;01mif\u001b[39;00m tarinfo\u001b[38;5;241m.\u001b[39misdir():\n\u001b[0;32m   2260\u001b[0m         \u001b[38;5;66;03m# For directories, delay setting attributes until later,\u001b[39;00m\n\u001b[0;32m   2261\u001b[0m         \u001b[38;5;66;03m# since permissions can interfere with extraction and\u001b[39;00m\n\u001b[0;32m   2262\u001b[0m         \u001b[38;5;66;03m# extracting contents can reset mtime.\u001b[39;00m\n\u001b[0;32m   2263\u001b[0m         directories\u001b[38;5;241m.\u001b[39mappend(tarinfo)\n\u001b[1;32m-> 2264\u001b[0m     \u001b[38;5;28;43mself\u001b[39;49m\u001b[38;5;241;43m.\u001b[39;49m\u001b[43m_extract_one\u001b[49m\u001b[43m(\u001b[49m\u001b[43mtarinfo\u001b[49m\u001b[43m,\u001b[49m\u001b[43m \u001b[49m\u001b[43mpath\u001b[49m\u001b[43m,\u001b[49m\u001b[43m \u001b[49m\u001b[43mset_attrs\u001b[49m\u001b[38;5;241;43m=\u001b[39;49m\u001b[38;5;129;43;01mnot\u001b[39;49;00m\u001b[43m \u001b[49m\u001b[43mtarinfo\u001b[49m\u001b[38;5;241;43m.\u001b[39;49m\u001b[43misdir\u001b[49m\u001b[43m(\u001b[49m\u001b[43m)\u001b[49m\u001b[43m,\u001b[49m\n\u001b[0;32m   2265\u001b[0m \u001b[43m                      \u001b[49m\u001b[43mnumeric_owner\u001b[49m\u001b[38;5;241;43m=\u001b[39;49m\u001b[43mnumeric_owner\u001b[49m\u001b[43m)\u001b[49m\n\u001b[0;32m   2267\u001b[0m \u001b[38;5;66;03m# Reverse sort directories.\u001b[39;00m\n\u001b[0;32m   2268\u001b[0m directories\u001b[38;5;241m.\u001b[39msort(key\u001b[38;5;241m=\u001b[39m\u001b[38;5;28;01mlambda\u001b[39;00m a: a\u001b[38;5;241m.\u001b[39mname, reverse\u001b[38;5;241m=\u001b[39m\u001b[38;5;28;01mTrue\u001b[39;00m)\n",
      "File \u001b[1;32mc:\\Users\\vuanh\\anaconda3\\envs\\llama\\lib\\tarfile.py:2331\u001b[0m, in \u001b[0;36mTarFile._extract_one\u001b[1;34m(self, tarinfo, path, set_attrs, numeric_owner)\u001b[0m\n\u001b[0;32m   2327\u001b[0m     \u001b[38;5;28mself\u001b[39m\u001b[38;5;241m.\u001b[39m_extract_member(tarinfo, os\u001b[38;5;241m.\u001b[39mpath\u001b[38;5;241m.\u001b[39mjoin(path, tarinfo\u001b[38;5;241m.\u001b[39mname),\n\u001b[0;32m   2328\u001b[0m                          set_attrs\u001b[38;5;241m=\u001b[39mset_attrs,\n\u001b[0;32m   2329\u001b[0m                          numeric_owner\u001b[38;5;241m=\u001b[39mnumeric_owner)\n\u001b[0;32m   2330\u001b[0m \u001b[38;5;28;01mexcept\u001b[39;00m \u001b[38;5;167;01mOSError\u001b[39;00m \u001b[38;5;28;01mas\u001b[39;00m e:\n\u001b[1;32m-> 2331\u001b[0m     \u001b[38;5;28;43mself\u001b[39;49m\u001b[38;5;241;43m.\u001b[39;49m\u001b[43m_handle_fatal_error\u001b[49m\u001b[43m(\u001b[49m\u001b[43me\u001b[49m\u001b[43m)\u001b[49m\n\u001b[0;32m   2332\u001b[0m \u001b[38;5;28;01mexcept\u001b[39;00m ExtractError \u001b[38;5;28;01mas\u001b[39;00m e:\n\u001b[0;32m   2333\u001b[0m     \u001b[38;5;28mself\u001b[39m\u001b[38;5;241m.\u001b[39m_handle_nonfatal_error(e)\n",
      "File \u001b[1;32mc:\\Users\\vuanh\\anaconda3\\envs\\llama\\lib\\tarfile.py:2327\u001b[0m, in \u001b[0;36mTarFile._extract_one\u001b[1;34m(self, tarinfo, path, set_attrs, numeric_owner)\u001b[0m\n\u001b[0;32m   2324\u001b[0m \u001b[38;5;28mself\u001b[39m\u001b[38;5;241m.\u001b[39m_check(\u001b[38;5;124m\"\u001b[39m\u001b[38;5;124mr\u001b[39m\u001b[38;5;124m\"\u001b[39m)\n\u001b[0;32m   2326\u001b[0m \u001b[38;5;28;01mtry\u001b[39;00m:\n\u001b[1;32m-> 2327\u001b[0m     \u001b[38;5;28;43mself\u001b[39;49m\u001b[38;5;241;43m.\u001b[39;49m\u001b[43m_extract_member\u001b[49m\u001b[43m(\u001b[49m\u001b[43mtarinfo\u001b[49m\u001b[43m,\u001b[49m\u001b[43m \u001b[49m\u001b[43mos\u001b[49m\u001b[38;5;241;43m.\u001b[39;49m\u001b[43mpath\u001b[49m\u001b[38;5;241;43m.\u001b[39;49m\u001b[43mjoin\u001b[49m\u001b[43m(\u001b[49m\u001b[43mpath\u001b[49m\u001b[43m,\u001b[49m\u001b[43m \u001b[49m\u001b[43mtarinfo\u001b[49m\u001b[38;5;241;43m.\u001b[39;49m\u001b[43mname\u001b[49m\u001b[43m)\u001b[49m\u001b[43m,\u001b[49m\n\u001b[0;32m   2328\u001b[0m \u001b[43m                         \u001b[49m\u001b[43mset_attrs\u001b[49m\u001b[38;5;241;43m=\u001b[39;49m\u001b[43mset_attrs\u001b[49m\u001b[43m,\u001b[49m\n\u001b[0;32m   2329\u001b[0m \u001b[43m                         \u001b[49m\u001b[43mnumeric_owner\u001b[49m\u001b[38;5;241;43m=\u001b[39;49m\u001b[43mnumeric_owner\u001b[49m\u001b[43m)\u001b[49m\n\u001b[0;32m   2330\u001b[0m \u001b[38;5;28;01mexcept\u001b[39;00m \u001b[38;5;167;01mOSError\u001b[39;00m \u001b[38;5;28;01mas\u001b[39;00m e:\n\u001b[0;32m   2331\u001b[0m     \u001b[38;5;28mself\u001b[39m\u001b[38;5;241m.\u001b[39m_handle_fatal_error(e)\n",
      "File \u001b[1;32mc:\\Users\\vuanh\\anaconda3\\envs\\llama\\lib\\tarfile.py:2410\u001b[0m, in \u001b[0;36mTarFile._extract_member\u001b[1;34m(self, tarinfo, targetpath, set_attrs, numeric_owner)\u001b[0m\n\u001b[0;32m   2407\u001b[0m     \u001b[38;5;28mself\u001b[39m\u001b[38;5;241m.\u001b[39m_dbg(\u001b[38;5;241m1\u001b[39m, tarinfo\u001b[38;5;241m.\u001b[39mname)\n\u001b[0;32m   2409\u001b[0m \u001b[38;5;28;01mif\u001b[39;00m tarinfo\u001b[38;5;241m.\u001b[39misreg():\n\u001b[1;32m-> 2410\u001b[0m     \u001b[38;5;28;43mself\u001b[39;49m\u001b[38;5;241;43m.\u001b[39;49m\u001b[43mmakefile\u001b[49m\u001b[43m(\u001b[49m\u001b[43mtarinfo\u001b[49m\u001b[43m,\u001b[49m\u001b[43m \u001b[49m\u001b[43mtargetpath\u001b[49m\u001b[43m)\u001b[49m\n\u001b[0;32m   2411\u001b[0m \u001b[38;5;28;01melif\u001b[39;00m tarinfo\u001b[38;5;241m.\u001b[39misdir():\n\u001b[0;32m   2412\u001b[0m     \u001b[38;5;28mself\u001b[39m\u001b[38;5;241m.\u001b[39mmakedir(tarinfo, targetpath)\n",
      "File \u001b[1;32mc:\\Users\\vuanh\\anaconda3\\envs\\llama\\lib\\tarfile.py:2463\u001b[0m, in \u001b[0;36mTarFile.makefile\u001b[1;34m(self, tarinfo, targetpath)\u001b[0m\n\u001b[0;32m   2461\u001b[0m     target\u001b[38;5;241m.\u001b[39mtruncate()\n\u001b[0;32m   2462\u001b[0m \u001b[38;5;28;01melse\u001b[39;00m:\n\u001b[1;32m-> 2463\u001b[0m     \u001b[43mcopyfileobj\u001b[49m\u001b[43m(\u001b[49m\u001b[43msource\u001b[49m\u001b[43m,\u001b[49m\u001b[43m \u001b[49m\u001b[43mtarget\u001b[49m\u001b[43m,\u001b[49m\u001b[43m \u001b[49m\u001b[43mtarinfo\u001b[49m\u001b[38;5;241;43m.\u001b[39;49m\u001b[43msize\u001b[49m\u001b[43m,\u001b[49m\u001b[43m \u001b[49m\u001b[43mReadError\u001b[49m\u001b[43m,\u001b[49m\u001b[43m \u001b[49m\u001b[43mbufsize\u001b[49m\u001b[43m)\u001b[49m\n",
      "File \u001b[1;32mc:\\Users\\vuanh\\anaconda3\\envs\\llama\\lib\\tarfile.py:255\u001b[0m, in \u001b[0;36mcopyfileobj\u001b[1;34m(src, dst, length, exception, bufsize)\u001b[0m\n\u001b[0;32m    253\u001b[0m     \u001b[38;5;28;01mif\u001b[39;00m \u001b[38;5;28mlen\u001b[39m(buf) \u001b[38;5;241m<\u001b[39m bufsize:\n\u001b[0;32m    254\u001b[0m         \u001b[38;5;28;01mraise\u001b[39;00m exception(\u001b[38;5;124m\"\u001b[39m\u001b[38;5;124munexpected end of data\u001b[39m\u001b[38;5;124m\"\u001b[39m)\n\u001b[1;32m--> 255\u001b[0m     \u001b[43mdst\u001b[49m\u001b[38;5;241;43m.\u001b[39;49m\u001b[43mwrite\u001b[49m\u001b[43m(\u001b[49m\u001b[43mbuf\u001b[49m\u001b[43m)\u001b[49m\n\u001b[0;32m    257\u001b[0m \u001b[38;5;28;01mif\u001b[39;00m remainder \u001b[38;5;241m!=\u001b[39m \u001b[38;5;241m0\u001b[39m:\n\u001b[0;32m    258\u001b[0m     buf \u001b[38;5;241m=\u001b[39m src\u001b[38;5;241m.\u001b[39mread(remainder)\n",
      "\u001b[1;31mOSError\u001b[0m: [Errno 28] No space left on device"
     ]
    }
   ],
   "source": [
    "import torchvision\n",
    "\n",
    "torchvision.datasets.Kinetics(root='./data',frames_per_clip=5,step_between_clips=5,num_classes='400',split='test',download=True)"
   ]
  },
  {
   "cell_type": "code",
   "execution_count": 4,
   "metadata": {},
   "outputs": [
    {
     "name": "stdout",
     "output_type": "stream",
     "text": [
      "Downloading https://s3.amazonaws.com/kinetics/400/train/k400_train_path.txt to ./data-train-download\\files\\k400_train_path.txt\n"
     ]
    },
    {
     "name": "stderr",
     "output_type": "stream",
     "text": [
      "100%|██████████| 14410/14410 [00:00<00:00, 14459311.16it/s]\n"
     ]
    },
    {
     "name": "stdout",
     "output_type": "stream",
     "text": [
      "Downloading https://s3.amazonaws.com/kinetics/400/train/part_0.tar.gz to ./data-train-download\\tars\\part_0.tar.gz\n"
     ]
    },
    {
     "name": "stderr",
     "output_type": "stream",
     "text": [
      "100%|██████████| 1631315939/1631315939 [06:41<00:00, 4060300.63it/s] \n"
     ]
    },
    {
     "name": "stdout",
     "output_type": "stream",
     "text": [
      "Extracting ./data-train-download\\tars\\part_0.tar.gz to ./data-train-download\\train\n",
      "Downloading https://s3.amazonaws.com/kinetics/400/train/part_1.tar.gz to ./data-train-download\\tars\\part_1.tar.gz\n"
     ]
    },
    {
     "name": "stderr",
     "output_type": "stream",
     "text": [
      "100%|██████████| 1622090263/1622090263 [10:04<00:00, 2685560.48it/s] \n"
     ]
    },
    {
     "name": "stdout",
     "output_type": "stream",
     "text": [
      "Extracting ./data-train-download\\tars\\part_1.tar.gz to ./data-train-download\\train\n",
      "Downloading https://s3.amazonaws.com/kinetics/400/train/part_2.tar.gz to ./data-train-download\\tars\\part_2.tar.gz\n"
     ]
    },
    {
     "name": "stderr",
     "output_type": "stream",
     "text": [
      "100%|██████████| 1540666914/1540666914 [06:33<00:00, 3916434.92it/s] \n"
     ]
    },
    {
     "name": "stdout",
     "output_type": "stream",
     "text": [
      "Extracting ./data-train-download\\tars\\part_2.tar.gz to ./data-train-download\\train\n",
      "Downloading https://s3.amazonaws.com/kinetics/400/train/part_3.tar.gz to ./data-train-download\\tars\\part_3.tar.gz\n"
     ]
    },
    {
     "name": "stderr",
     "output_type": "stream",
     "text": [
      "100%|██████████| 1522090712/1522090712 [07:34<00:00, 3347843.01it/s] \n"
     ]
    },
    {
     "name": "stdout",
     "output_type": "stream",
     "text": [
      "Extracting ./data-train-download\\tars\\part_3.tar.gz to ./data-train-download\\train\n",
      "Downloading https://s3.amazonaws.com/kinetics/400/train/part_4.tar.gz to ./data-train-download\\tars\\part_4.tar.gz\n"
     ]
    },
    {
     "name": "stderr",
     "output_type": "stream",
     "text": [
      "100%|██████████| 1570152216/1570152216 [10:29<00:00, 2492904.04it/s] \n"
     ]
    },
    {
     "name": "stdout",
     "output_type": "stream",
     "text": [
      "Extracting ./data-train-download\\tars\\part_4.tar.gz to ./data-train-download\\train\n",
      "Downloading https://s3.amazonaws.com/kinetics/400/train/part_5.tar.gz to ./data-train-download\\tars\\part_5.tar.gz\n"
     ]
    },
    {
     "name": "stderr",
     "output_type": "stream",
     "text": [
      "100%|██████████| 1490910675/1490910675 [06:46<00:00, 3665028.83it/s] \n"
     ]
    },
    {
     "name": "stdout",
     "output_type": "stream",
     "text": [
      "Extracting ./data-train-download\\tars\\part_5.tar.gz to ./data-train-download\\train\n",
      "Downloading https://s3.amazonaws.com/kinetics/400/train/part_6.tar.gz to ./data-train-download\\tars\\part_6.tar.gz\n"
     ]
    },
    {
     "name": "stderr",
     "output_type": "stream",
     "text": [
      "100%|██████████| 1500063543/1500063543 [09:00<00:00, 2775210.26it/s] \n"
     ]
    },
    {
     "name": "stdout",
     "output_type": "stream",
     "text": [
      "Extracting ./data-train-download\\tars\\part_6.tar.gz to ./data-train-download\\train\n",
      "Downloading https://s3.amazonaws.com/kinetics/400/train/part_7.tar.gz to ./data-train-download\\tars\\part_7.tar.gz\n"
     ]
    },
    {
     "name": "stderr",
     "output_type": "stream",
     "text": [
      "100%|██████████| 1509946610/1509946610 [06:29<00:00, 3874670.41it/s] \n"
     ]
    },
    {
     "name": "stdout",
     "output_type": "stream",
     "text": [
      "Extracting ./data-train-download\\tars\\part_7.tar.gz to ./data-train-download\\train\n",
      "Downloading https://s3.amazonaws.com/kinetics/400/train/part_8.tar.gz to ./data-train-download\\tars\\part_8.tar.gz\n"
     ]
    },
    {
     "name": "stderr",
     "output_type": "stream",
     "text": [
      "100%|██████████| 1597994571/1597994571 [07:45<00:00, 3435390.46it/s] \n"
     ]
    },
    {
     "name": "stdout",
     "output_type": "stream",
     "text": [
      "Extracting ./data-train-download\\tars\\part_8.tar.gz to ./data-train-download\\train\n",
      "Downloading https://s3.amazonaws.com/kinetics/400/train/part_9.tar.gz to ./data-train-download\\tars\\part_9.tar.gz\n"
     ]
    },
    {
     "name": "stderr",
     "output_type": "stream",
     "text": [
      "100%|██████████| 1589172684/1589172684 [08:33<00:00, 3094168.41it/s]\n"
     ]
    },
    {
     "name": "stdout",
     "output_type": "stream",
     "text": [
      "Extracting ./data-train-download\\tars\\part_9.tar.gz to ./data-train-download\\train\n",
      "Downloading https://s3.amazonaws.com/kinetics/400/train/part_10.tar.gz to ./data-train-download\\tars\\part_10.tar.gz\n"
     ]
    },
    {
     "name": "stderr",
     "output_type": "stream",
     "text": [
      "100%|██████████| 1514029457/1514029457 [06:51<00:00, 3679172.68it/s] \n"
     ]
    },
    {
     "name": "stdout",
     "output_type": "stream",
     "text": [
      "Extracting ./data-train-download\\tars\\part_10.tar.gz to ./data-train-download\\train\n",
      "Downloading https://s3.amazonaws.com/kinetics/400/train/part_11.tar.gz to ./data-train-download\\tars\\part_11.tar.gz\n"
     ]
    },
    {
     "name": "stderr",
     "output_type": "stream",
     "text": [
      "100%|██████████| 1587186529/1587186529 [06:13<00:00, 4251052.14it/s] \n"
     ]
    },
    {
     "name": "stdout",
     "output_type": "stream",
     "text": [
      "Extracting ./data-train-download\\tars\\part_11.tar.gz to ./data-train-download\\train\n",
      "Downloading https://s3.amazonaws.com/kinetics/400/train/part_12.tar.gz to ./data-train-download\\tars\\part_12.tar.gz\n"
     ]
    },
    {
     "name": "stderr",
     "output_type": "stream",
     "text": [
      "100%|██████████| 1577485945/1577485945 [07:59<00:00, 3288056.69it/s]\n"
     ]
    },
    {
     "name": "stdout",
     "output_type": "stream",
     "text": [
      "Extracting ./data-train-download\\tars\\part_12.tar.gz to ./data-train-download\\train\n",
      "Downloading https://s3.amazonaws.com/kinetics/400/train/part_13.tar.gz to ./data-train-download\\tars\\part_13.tar.gz\n"
     ]
    },
    {
     "name": "stderr",
     "output_type": "stream",
     "text": [
      "100%|██████████| 1553098778/1553098778 [06:53<00:00, 3756456.91it/s] \n"
     ]
    },
    {
     "name": "stdout",
     "output_type": "stream",
     "text": [
      "Extracting ./data-train-download\\tars\\part_13.tar.gz to ./data-train-download\\train\n",
      "Downloading https://s3.amazonaws.com/kinetics/400/train/part_14.tar.gz to ./data-train-download\\tars\\part_14.tar.gz\n"
     ]
    },
    {
     "name": "stderr",
     "output_type": "stream",
     "text": [
      "100%|██████████| 1489545442/1489545442 [07:59<00:00, 3106783.33it/s] \n"
     ]
    },
    {
     "name": "stdout",
     "output_type": "stream",
     "text": [
      "Extracting ./data-train-download\\tars\\part_14.tar.gz to ./data-train-download\\train\n",
      "Downloading https://s3.amazonaws.com/kinetics/400/train/part_15.tar.gz to ./data-train-download\\tars\\part_15.tar.gz\n"
     ]
    },
    {
     "name": "stderr",
     "output_type": "stream",
     "text": [
      "100%|██████████| 1489899451/1489899451 [05:35<00:00, 4446403.83it/s] \n"
     ]
    },
    {
     "name": "stdout",
     "output_type": "stream",
     "text": [
      "Extracting ./data-train-download\\tars\\part_15.tar.gz to ./data-train-download\\train\n",
      "Downloading https://s3.amazonaws.com/kinetics/400/train/part_16.tar.gz to ./data-train-download\\tars\\part_16.tar.gz\n"
     ]
    },
    {
     "name": "stderr",
     "output_type": "stream",
     "text": [
      "100%|██████████| 1588047371/1588047371 [05:52<00:00, 4507209.01it/s] \n"
     ]
    },
    {
     "name": "stdout",
     "output_type": "stream",
     "text": [
      "Extracting ./data-train-download\\tars\\part_16.tar.gz to ./data-train-download\\train\n",
      "Downloading https://s3.amazonaws.com/kinetics/400/train/part_17.tar.gz to ./data-train-download\\tars\\part_17.tar.gz\n"
     ]
    },
    {
     "name": "stderr",
     "output_type": "stream",
     "text": [
      "100%|██████████| 1509472743/1509472743 [07:56<00:00, 3165573.08it/s] \n"
     ]
    },
    {
     "name": "stdout",
     "output_type": "stream",
     "text": [
      "Extracting ./data-train-download\\tars\\part_17.tar.gz to ./data-train-download\\train\n",
      "Downloading https://s3.amazonaws.com/kinetics/400/train/part_18.tar.gz to ./data-train-download\\tars\\part_18.tar.gz\n"
     ]
    },
    {
     "name": "stderr",
     "output_type": "stream",
     "text": [
      "100%|██████████| 1534113658/1534113658 [06:36<00:00, 3873886.42it/s]\n"
     ]
    },
    {
     "name": "stdout",
     "output_type": "stream",
     "text": [
      "Extracting ./data-train-download\\tars\\part_18.tar.gz to ./data-train-download\\train\n",
      "Downloading https://s3.amazonaws.com/kinetics/400/train/part_19.tar.gz to ./data-train-download\\tars\\part_19.tar.gz\n"
     ]
    },
    {
     "name": "stderr",
     "output_type": "stream",
     "text": [
      "100%|██████████| 1569700638/1569700638 [07:53<00:00, 3316303.69it/s]\n"
     ]
    },
    {
     "name": "stdout",
     "output_type": "stream",
     "text": [
      "Extracting ./data-train-download\\tars\\part_19.tar.gz to ./data-train-download\\train\n",
      "Downloading https://s3.amazonaws.com/kinetics/400/train/part_20.tar.gz to ./data-train-download\\tars\\part_20.tar.gz\n"
     ]
    },
    {
     "name": "stderr",
     "output_type": "stream",
     "text": [
      "100%|██████████| 1616534340/1616534340 [07:09<00:00, 3764522.27it/s]\n"
     ]
    },
    {
     "name": "stdout",
     "output_type": "stream",
     "text": [
      "Extracting ./data-train-download\\tars\\part_20.tar.gz to ./data-train-download\\train\n",
      "Downloading https://s3.amazonaws.com/kinetics/400/train/part_21.tar.gz to ./data-train-download\\tars\\part_21.tar.gz\n"
     ]
    },
    {
     "name": "stderr",
     "output_type": "stream",
     "text": [
      "100%|██████████| 1580434344/1580434344 [05:42<00:00, 4611575.69it/s]\n"
     ]
    },
    {
     "name": "stdout",
     "output_type": "stream",
     "text": [
      "Extracting ./data-train-download\\tars\\part_21.tar.gz to ./data-train-download\\train\n",
      "Downloading https://s3.amazonaws.com/kinetics/400/train/part_22.tar.gz to ./data-train-download\\tars\\part_22.tar.gz\n"
     ]
    },
    {
     "name": "stderr",
     "output_type": "stream",
     "text": [
      "100%|██████████| 1577118455/1577118455 [05:57<00:00, 4407552.52it/s]\n"
     ]
    },
    {
     "name": "stdout",
     "output_type": "stream",
     "text": [
      "Extracting ./data-train-download\\tars\\part_22.tar.gz to ./data-train-download\\train\n",
      "Downloading https://s3.amazonaws.com/kinetics/400/train/part_23.tar.gz to ./data-train-download\\tars\\part_23.tar.gz\n"
     ]
    },
    {
     "name": "stderr",
     "output_type": "stream",
     "text": [
      "100%|██████████| 1583027174/1583027174 [08:55<00:00, 2956185.15it/s]\n"
     ]
    },
    {
     "name": "stdout",
     "output_type": "stream",
     "text": [
      "Extracting ./data-train-download\\tars\\part_23.tar.gz to ./data-train-download\\train\n",
      "Downloading https://s3.amazonaws.com/kinetics/400/train/part_24.tar.gz to ./data-train-download\\tars\\part_24.tar.gz\n"
     ]
    },
    {
     "name": "stderr",
     "output_type": "stream",
     "text": [
      "100%|██████████| 1520554346/1520554346 [07:31<00:00, 3371434.28it/s]\n"
     ]
    },
    {
     "name": "stdout",
     "output_type": "stream",
     "text": [
      "Extracting ./data-train-download\\tars\\part_24.tar.gz to ./data-train-download\\train\n",
      "Downloading https://s3.amazonaws.com/kinetics/400/train/part_25.tar.gz to ./data-train-download\\tars\\part_25.tar.gz\n"
     ]
    },
    {
     "name": "stderr",
     "output_type": "stream",
     "text": [
      "100%|██████████| 1509277997/1509277997 [07:29<00:00, 3357467.18it/s] \n"
     ]
    },
    {
     "name": "stdout",
     "output_type": "stream",
     "text": [
      "Extracting ./data-train-download\\tars\\part_25.tar.gz to ./data-train-download\\train\n",
      "Downloading https://s3.amazonaws.com/kinetics/400/train/part_26.tar.gz to ./data-train-download\\tars\\part_26.tar.gz\n"
     ]
    },
    {
     "name": "stderr",
     "output_type": "stream",
     "text": [
      "100%|██████████| 1555434430/1555434430 [06:39<00:00, 3897295.67it/s]\n"
     ]
    },
    {
     "name": "stdout",
     "output_type": "stream",
     "text": [
      "Extracting ./data-train-download\\tars\\part_26.tar.gz to ./data-train-download\\train\n",
      "Downloading https://s3.amazonaws.com/kinetics/400/train/part_27.tar.gz to ./data-train-download\\tars\\part_27.tar.gz\n"
     ]
    },
    {
     "name": "stderr",
     "output_type": "stream",
     "text": [
      "100%|██████████| 1527992292/1527992292 [06:48<00:00, 3741525.34it/s]\n"
     ]
    },
    {
     "name": "stdout",
     "output_type": "stream",
     "text": [
      "Extracting ./data-train-download\\tars\\part_27.tar.gz to ./data-train-download\\train\n",
      "Downloading https://s3.amazonaws.com/kinetics/400/train/part_28.tar.gz to ./data-train-download\\tars\\part_28.tar.gz\n"
     ]
    },
    {
     "name": "stderr",
     "output_type": "stream",
     "text": [
      "100%|██████████| 1671986624/1671986624 [07:32<00:00, 3698563.06it/s]\n"
     ]
    },
    {
     "name": "stdout",
     "output_type": "stream",
     "text": [
      "Extracting ./data-train-download\\tars\\part_28.tar.gz to ./data-train-download\\train\n",
      "Downloading https://s3.amazonaws.com/kinetics/400/train/part_29.tar.gz to ./data-train-download\\tars\\part_29.tar.gz\n"
     ]
    },
    {
     "name": "stderr",
     "output_type": "stream",
     "text": [
      "100%|██████████| 1477697676/1477697676 [07:38<00:00, 3224404.22it/s]\n"
     ]
    },
    {
     "name": "stdout",
     "output_type": "stream",
     "text": [
      "Extracting ./data-train-download\\tars\\part_29.tar.gz to ./data-train-download\\train\n",
      "Downloading https://s3.amazonaws.com/kinetics/400/train/part_30.tar.gz to ./data-train-download\\tars\\part_30.tar.gz\n"
     ]
    },
    {
     "name": "stderr",
     "output_type": "stream",
     "text": [
      "100%|██████████| 1523199394/1523199394 [18:29<00:00, 1373008.23it/s]\n"
     ]
    },
    {
     "name": "stdout",
     "output_type": "stream",
     "text": [
      "Extracting ./data-train-download\\tars\\part_30.tar.gz to ./data-train-download\\train\n",
      "Downloading https://s3.amazonaws.com/kinetics/400/train/part_31.tar.gz to ./data-train-download\\tars\\part_31.tar.gz\n"
     ]
    },
    {
     "name": "stderr",
     "output_type": "stream",
     "text": [
      "100%|██████████| 1586744851/1586744851 [25:30<00:00, 1036419.04it/s]\n"
     ]
    },
    {
     "name": "stdout",
     "output_type": "stream",
     "text": [
      "Extracting ./data-train-download\\tars\\part_31.tar.gz to ./data-train-download\\train\n",
      "Downloading https://s3.amazonaws.com/kinetics/400/train/part_32.tar.gz to ./data-train-download\\tars\\part_32.tar.gz\n"
     ]
    },
    {
     "name": "stderr",
     "output_type": "stream",
     "text": [
      "100%|██████████| 1426174684/1426174684 [28:31<00:00, 833470.17it/s] \n"
     ]
    },
    {
     "name": "stdout",
     "output_type": "stream",
     "text": [
      "Extracting ./data-train-download\\tars\\part_32.tar.gz to ./data-train-download\\train\n",
      "Downloading https://s3.amazonaws.com/kinetics/400/train/part_33.tar.gz to ./data-train-download\\tars\\part_33.tar.gz\n"
     ]
    },
    {
     "name": "stderr",
     "output_type": "stream",
     "text": [
      "100%|██████████| 1589257059/1589257059 [17:03<00:00, 1552307.69it/s] \n"
     ]
    },
    {
     "name": "stdout",
     "output_type": "stream",
     "text": [
      "Extracting ./data-train-download\\tars\\part_33.tar.gz to ./data-train-download\\train\n",
      "Downloading https://s3.amazonaws.com/kinetics/400/train/part_34.tar.gz to ./data-train-download\\tars\\part_34.tar.gz\n"
     ]
    },
    {
     "name": "stderr",
     "output_type": "stream",
     "text": [
      "100%|██████████| 1547083222/1547083222 [12:23<00:00, 2079874.74it/s]\n"
     ]
    },
    {
     "name": "stdout",
     "output_type": "stream",
     "text": [
      "Extracting ./data-train-download\\tars\\part_34.tar.gz to ./data-train-download\\train\n",
      "Downloading https://s3.amazonaws.com/kinetics/400/train/part_35.tar.gz to ./data-train-download\\tars\\part_35.tar.gz\n"
     ]
    },
    {
     "name": "stderr",
     "output_type": "stream",
     "text": [
      "100%|██████████| 1499176968/1499176968 [09:35<00:00, 2607088.73it/s]\n"
     ]
    },
    {
     "name": "stdout",
     "output_type": "stream",
     "text": [
      "Extracting ./data-train-download\\tars\\part_35.tar.gz to ./data-train-download\\train\n",
      "Downloading https://s3.amazonaws.com/kinetics/400/train/part_36.tar.gz to ./data-train-download\\tars\\part_36.tar.gz\n"
     ]
    },
    {
     "name": "stderr",
     "output_type": "stream",
     "text": [
      "100%|██████████| 1528967514/1528967514 [10:21<00:00, 2461676.62it/s]\n"
     ]
    },
    {
     "name": "stdout",
     "output_type": "stream",
     "text": [
      "Extracting ./data-train-download\\tars\\part_36.tar.gz to ./data-train-download\\train\n",
      "Downloading https://s3.amazonaws.com/kinetics/400/train/part_37.tar.gz to ./data-train-download\\tars\\part_37.tar.gz\n"
     ]
    },
    {
     "name": "stderr",
     "output_type": "stream",
     "text": [
      "100%|██████████| 1522718961/1522718961 [10:20<00:00, 2455997.35it/s] \n"
     ]
    },
    {
     "name": "stdout",
     "output_type": "stream",
     "text": [
      "Extracting ./data-train-download\\tars\\part_37.tar.gz to ./data-train-download\\train\n",
      "Downloading https://s3.amazonaws.com/kinetics/400/train/part_38.tar.gz to ./data-train-download\\tars\\part_38.tar.gz\n"
     ]
    },
    {
     "name": "stderr",
     "output_type": "stream",
     "text": [
      "100%|██████████| 1565313499/1565313499 [07:39<00:00, 3403133.59it/s] \n"
     ]
    },
    {
     "name": "stdout",
     "output_type": "stream",
     "text": [
      "Extracting ./data-train-download\\tars\\part_38.tar.gz to ./data-train-download\\train\n",
      "Downloading https://s3.amazonaws.com/kinetics/400/train/part_39.tar.gz to ./data-train-download\\tars\\part_39.tar.gz\n"
     ]
    },
    {
     "name": "stderr",
     "output_type": "stream",
     "text": [
      "100%|██████████| 1524165860/1524165860 [06:24<00:00, 3962421.49it/s]\n"
     ]
    },
    {
     "name": "stdout",
     "output_type": "stream",
     "text": [
      "Extracting ./data-train-download\\tars\\part_39.tar.gz to ./data-train-download\\train\n",
      "Downloading https://s3.amazonaws.com/kinetics/400/train/part_40.tar.gz to ./data-train-download\\tars\\part_40.tar.gz\n"
     ]
    },
    {
     "name": "stderr",
     "output_type": "stream",
     "text": [
      "100%|██████████| 1510438234/1510438234 [07:34<00:00, 3320139.27it/s] \n"
     ]
    },
    {
     "name": "stdout",
     "output_type": "stream",
     "text": [
      "Extracting ./data-train-download\\tars\\part_40.tar.gz to ./data-train-download\\train\n",
      "Downloading https://s3.amazonaws.com/kinetics/400/train/part_41.tar.gz to ./data-train-download\\tars\\part_41.tar.gz\n"
     ]
    },
    {
     "name": "stderr",
     "output_type": "stream",
     "text": [
      "100%|██████████| 1547789901/1547789901 [14:29<00:00, 1779391.24it/s] \n"
     ]
    },
    {
     "name": "stdout",
     "output_type": "stream",
     "text": [
      "Extracting ./data-train-download\\tars\\part_41.tar.gz to ./data-train-download\\train\n",
      "Downloading https://s3.amazonaws.com/kinetics/400/train/part_42.tar.gz to ./data-train-download\\tars\\part_42.tar.gz\n"
     ]
    },
    {
     "name": "stderr",
     "output_type": "stream",
     "text": [
      "100%|██████████| 1460904734/1460904734 [24:49<00:00, 980996.45it/s] \n"
     ]
    },
    {
     "name": "stdout",
     "output_type": "stream",
     "text": [
      "Extracting ./data-train-download\\tars\\part_42.tar.gz to ./data-train-download\\train\n",
      "Downloading https://s3.amazonaws.com/kinetics/400/train/part_43.tar.gz to ./data-train-download\\tars\\part_43.tar.gz\n"
     ]
    },
    {
     "name": "stderr",
     "output_type": "stream",
     "text": [
      "100%|██████████| 1455607146/1455607146 [13:37<00:00, 1779891.44it/s]\n"
     ]
    },
    {
     "name": "stdout",
     "output_type": "stream",
     "text": [
      "Extracting ./data-train-download\\tars\\part_43.tar.gz to ./data-train-download\\train\n",
      "Downloading https://s3.amazonaws.com/kinetics/400/train/part_44.tar.gz to ./data-train-download\\tars\\part_44.tar.gz\n"
     ]
    },
    {
     "name": "stderr",
     "output_type": "stream",
     "text": [
      "100%|██████████| 1518376885/1518376885 [08:52<00:00, 2850938.72it/s]\n"
     ]
    },
    {
     "name": "stdout",
     "output_type": "stream",
     "text": [
      "Extracting ./data-train-download\\tars\\part_44.tar.gz to ./data-train-download\\train\n",
      "Downloading https://s3.amazonaws.com/kinetics/400/train/part_45.tar.gz to ./data-train-download\\tars\\part_45.tar.gz\n"
     ]
    },
    {
     "name": "stderr",
     "output_type": "stream",
     "text": [
      "100%|██████████| 1546312255/1546312255 [13:03<00:00, 1974116.37it/s] \n"
     ]
    },
    {
     "name": "stdout",
     "output_type": "stream",
     "text": [
      "Extracting ./data-train-download\\tars\\part_45.tar.gz to ./data-train-download\\train\n",
      "Downloading https://s3.amazonaws.com/kinetics/400/train/part_46.tar.gz to ./data-train-download\\tars\\part_46.tar.gz\n"
     ]
    },
    {
     "name": "stderr",
     "output_type": "stream",
     "text": [
      "100%|██████████| 1546956944/1546956944 [15:59<00:00, 1612370.23it/s]\n"
     ]
    },
    {
     "name": "stdout",
     "output_type": "stream",
     "text": [
      "Extracting ./data-train-download\\tars\\part_46.tar.gz to ./data-train-download\\train\n",
      "Downloading https://s3.amazonaws.com/kinetics/400/train/part_47.tar.gz to ./data-train-download\\tars\\part_47.tar.gz\n"
     ]
    },
    {
     "name": "stderr",
     "output_type": "stream",
     "text": [
      "100%|██████████| 1467248053/1467248053 [08:46<00:00, 2787775.61it/s]\n"
     ]
    },
    {
     "name": "stdout",
     "output_type": "stream",
     "text": [
      "Extracting ./data-train-download\\tars\\part_47.tar.gz to ./data-train-download\\train\n",
      "Downloading https://s3.amazonaws.com/kinetics/400/train/part_48.tar.gz to ./data-train-download\\tars\\part_48.tar.gz\n"
     ]
    },
    {
     "name": "stderr",
     "output_type": "stream",
     "text": [
      "100%|██████████| 1537943285/1537943285 [20:30<00:00, 1249515.98it/s]\n"
     ]
    },
    {
     "name": "stdout",
     "output_type": "stream",
     "text": [
      "Extracting ./data-train-download\\tars\\part_48.tar.gz to ./data-train-download\\train\n",
      "Downloading https://s3.amazonaws.com/kinetics/400/train/part_49.tar.gz to ./data-train-download\\tars\\part_49.tar.gz\n"
     ]
    },
    {
     "name": "stderr",
     "output_type": "stream",
     "text": [
      "100%|██████████| 1553653003/1553653003 [21:49<00:00, 1186298.60it/s] \n"
     ]
    },
    {
     "name": "stdout",
     "output_type": "stream",
     "text": [
      "Extracting ./data-train-download\\tars\\part_49.tar.gz to ./data-train-download\\train\n",
      "Downloading https://s3.amazonaws.com/kinetics/400/train/part_50.tar.gz to ./data-train-download\\tars\\part_50.tar.gz\n"
     ]
    },
    {
     "name": "stderr",
     "output_type": "stream",
     "text": [
      "100%|██████████| 1549093977/1549093977 [21:26<00:00, 1204534.94it/s]\n"
     ]
    },
    {
     "name": "stdout",
     "output_type": "stream",
     "text": [
      "Extracting ./data-train-download\\tars\\part_50.tar.gz to ./data-train-download\\train\n",
      "Downloading https://s3.amazonaws.com/kinetics/400/train/part_51.tar.gz to ./data-train-download\\tars\\part_51.tar.gz\n"
     ]
    },
    {
     "name": "stderr",
     "output_type": "stream",
     "text": [
      "100%|██████████| 1561636365/1561636365 [16:00<00:00, 1626525.15it/s]\n"
     ]
    },
    {
     "name": "stdout",
     "output_type": "stream",
     "text": [
      "Extracting ./data-train-download\\tars\\part_51.tar.gz to ./data-train-download\\train\n",
      "Downloading https://s3.amazonaws.com/kinetics/400/train/part_52.tar.gz to ./data-train-download\\tars\\part_52.tar.gz\n"
     ]
    },
    {
     "name": "stderr",
     "output_type": "stream",
     "text": [
      "100%|██████████| 1573857757/1573857757 [08:26<00:00, 3108158.86it/s]\n"
     ]
    },
    {
     "name": "stdout",
     "output_type": "stream",
     "text": [
      "Extracting ./data-train-download\\tars\\part_52.tar.gz to ./data-train-download\\train\n",
      "Downloading https://s3.amazonaws.com/kinetics/400/train/part_53.tar.gz to ./data-train-download\\tars\\part_53.tar.gz\n"
     ]
    },
    {
     "name": "stderr",
     "output_type": "stream",
     "text": [
      "100%|██████████| 1483134148/1483134148 [08:51<00:00, 2788451.48it/s] \n"
     ]
    },
    {
     "name": "stdout",
     "output_type": "stream",
     "text": [
      "Extracting ./data-train-download\\tars\\part_53.tar.gz to ./data-train-download\\train\n",
      "Downloading https://s3.amazonaws.com/kinetics/400/train/part_54.tar.gz to ./data-train-download\\tars\\part_54.tar.gz\n"
     ]
    },
    {
     "name": "stderr",
     "output_type": "stream",
     "text": [
      "100%|██████████| 1530912475/1530912475 [08:43<00:00, 2923257.17it/s]\n"
     ]
    },
    {
     "name": "stdout",
     "output_type": "stream",
     "text": [
      "Extracting ./data-train-download\\tars\\part_54.tar.gz to ./data-train-download\\train\n",
      "Downloading https://s3.amazonaws.com/kinetics/400/train/part_55.tar.gz to ./data-train-download\\tars\\part_55.tar.gz\n"
     ]
    },
    {
     "name": "stderr",
     "output_type": "stream",
     "text": [
      "100%|██████████| 1522235511/1522235511 [06:32<00:00, 3878954.24it/s]\n"
     ]
    },
    {
     "name": "stdout",
     "output_type": "stream",
     "text": [
      "Extracting ./data-train-download\\tars\\part_55.tar.gz to ./data-train-download\\train\n",
      "Downloading https://s3.amazonaws.com/kinetics/400/train/part_56.tar.gz to ./data-train-download\\tars\\part_56.tar.gz\n"
     ]
    },
    {
     "name": "stderr",
     "output_type": "stream",
     "text": [
      "100%|██████████| 1518541886/1518541886 [06:30<00:00, 3886276.91it/s] \n"
     ]
    },
    {
     "name": "stdout",
     "output_type": "stream",
     "text": [
      "Extracting ./data-train-download\\tars\\part_56.tar.gz to ./data-train-download\\train\n",
      "Downloading https://s3.amazonaws.com/kinetics/400/train/part_57.tar.gz to ./data-train-download\\tars\\part_57.tar.gz\n"
     ]
    },
    {
     "name": "stderr",
     "output_type": "stream",
     "text": [
      "100%|██████████| 1550969903/1550969903 [07:52<00:00, 3280233.55it/s] \n"
     ]
    },
    {
     "name": "stdout",
     "output_type": "stream",
     "text": [
      "Extracting ./data-train-download\\tars\\part_57.tar.gz to ./data-train-download\\train\n",
      "Downloading https://s3.amazonaws.com/kinetics/400/train/part_58.tar.gz to ./data-train-download\\tars\\part_58.tar.gz\n"
     ]
    },
    {
     "name": "stderr",
     "output_type": "stream",
     "text": [
      "100%|██████████| 1552586730/1552586730 [07:12<00:00, 3589567.32it/s] \n"
     ]
    },
    {
     "name": "stdout",
     "output_type": "stream",
     "text": [
      "Extracting ./data-train-download\\tars\\part_58.tar.gz to ./data-train-download\\train\n",
      "Downloading https://s3.amazonaws.com/kinetics/400/train/part_59.tar.gz to ./data-train-download\\tars\\part_59.tar.gz\n"
     ]
    },
    {
     "name": "stderr",
     "output_type": "stream",
     "text": [
      "100%|██████████| 1487493110/1487493110 [06:51<00:00, 3616214.67it/s] \n"
     ]
    },
    {
     "name": "stdout",
     "output_type": "stream",
     "text": [
      "Extracting ./data-train-download\\tars\\part_59.tar.gz to ./data-train-download\\train\n",
      "Downloading https://s3.amazonaws.com/kinetics/400/train/part_60.tar.gz to ./data-train-download\\tars\\part_60.tar.gz\n"
     ]
    },
    {
     "name": "stderr",
     "output_type": "stream",
     "text": [
      "100%|██████████| 1548664832/1548664832 [08:03<00:00, 3200119.14it/s]\n"
     ]
    },
    {
     "name": "stdout",
     "output_type": "stream",
     "text": [
      "Extracting ./data-train-download\\tars\\part_60.tar.gz to ./data-train-download\\train\n",
      "Downloading https://s3.amazonaws.com/kinetics/400/train/part_61.tar.gz to ./data-train-download\\tars\\part_61.tar.gz\n"
     ]
    },
    {
     "name": "stderr",
     "output_type": "stream",
     "text": [
      "100%|██████████| 1464883773/1464883773 [07:48<00:00, 3126751.11it/s]\n"
     ]
    },
    {
     "name": "stdout",
     "output_type": "stream",
     "text": [
      "Extracting ./data-train-download\\tars\\part_61.tar.gz to ./data-train-download\\train\n",
      "Downloading https://s3.amazonaws.com/kinetics/400/train/part_62.tar.gz to ./data-train-download\\tars\\part_62.tar.gz\n"
     ]
    },
    {
     "name": "stderr",
     "output_type": "stream",
     "text": [
      "100%|██████████| 1523473812/1523473812 [08:56<00:00, 2838629.06it/s] \n"
     ]
    },
    {
     "name": "stdout",
     "output_type": "stream",
     "text": [
      "Extracting ./data-train-download\\tars\\part_62.tar.gz to ./data-train-download\\train\n",
      "Downloading https://s3.amazonaws.com/kinetics/400/train/part_63.tar.gz to ./data-train-download\\tars\\part_63.tar.gz\n"
     ]
    },
    {
     "name": "stderr",
     "output_type": "stream",
     "text": [
      "100%|██████████| 1541197879/1541197879 [07:46<00:00, 3304487.92it/s]\n"
     ]
    },
    {
     "name": "stdout",
     "output_type": "stream",
     "text": [
      "Extracting ./data-train-download\\tars\\part_63.tar.gz to ./data-train-download\\train\n",
      "Downloading https://s3.amazonaws.com/kinetics/400/train/part_64.tar.gz to ./data-train-download\\tars\\part_64.tar.gz\n"
     ]
    },
    {
     "name": "stderr",
     "output_type": "stream",
     "text": [
      "100%|██████████| 1608070515/1608070515 [08:51<00:00, 3024873.33it/s]\n"
     ]
    },
    {
     "name": "stdout",
     "output_type": "stream",
     "text": [
      "Extracting ./data-train-download\\tars\\part_64.tar.gz to ./data-train-download\\train\n",
      "Downloading https://s3.amazonaws.com/kinetics/400/train/part_65.tar.gz to ./data-train-download\\tars\\part_65.tar.gz\n"
     ]
    },
    {
     "name": "stderr",
     "output_type": "stream",
     "text": [
      "100%|██████████| 1553657321/1553657321 [09:57<00:00, 2599581.99it/s]\n"
     ]
    },
    {
     "name": "stdout",
     "output_type": "stream",
     "text": [
      "Extracting ./data-train-download\\tars\\part_65.tar.gz to ./data-train-download\\train\n",
      "Downloading https://s3.amazonaws.com/kinetics/400/train/part_66.tar.gz to ./data-train-download\\tars\\part_66.tar.gz\n"
     ]
    },
    {
     "name": "stderr",
     "output_type": "stream",
     "text": [
      " 58%|█████▊    | 885882880/1522056092 [05:12<03:44, 2837088.37it/s]\n"
     ]
    },
    {
     "ename": "KeyboardInterrupt",
     "evalue": "",
     "output_type": "error",
     "traceback": [
      "\u001b[1;31m---------------------------------------------------------------------------\u001b[0m",
      "\u001b[1;31mKeyboardInterrupt\u001b[0m                         Traceback (most recent call last)",
      "Cell \u001b[1;32mIn[4], line 3\u001b[0m\n\u001b[0;32m      1\u001b[0m \u001b[38;5;28;01mimport\u001b[39;00m \u001b[38;5;21;01mtorchvision\u001b[39;00m\n\u001b[1;32m----> 3\u001b[0m \u001b[43mtorchvision\u001b[49m\u001b[38;5;241;43m.\u001b[39;49m\u001b[43mdatasets\u001b[49m\u001b[38;5;241;43m.\u001b[39;49m\u001b[43mKinetics\u001b[49m\u001b[43m(\u001b[49m\u001b[43mroot\u001b[49m\u001b[38;5;241;43m=\u001b[39;49m\u001b[38;5;124;43m'\u001b[39;49m\u001b[38;5;124;43m./data-train-download\u001b[39;49m\u001b[38;5;124;43m'\u001b[39;49m\u001b[43m,\u001b[49m\u001b[43mframes_per_clip\u001b[49m\u001b[38;5;241;43m=\u001b[39;49m\u001b[38;5;241;43m5\u001b[39;49m\u001b[43m,\u001b[49m\u001b[43mstep_between_clips\u001b[49m\u001b[38;5;241;43m=\u001b[39;49m\u001b[38;5;241;43m5\u001b[39;49m\u001b[43m,\u001b[49m\u001b[43mnum_classes\u001b[49m\u001b[38;5;241;43m=\u001b[39;49m\u001b[38;5;124;43m'\u001b[39;49m\u001b[38;5;124;43m400\u001b[39;49m\u001b[38;5;124;43m'\u001b[39;49m\u001b[43m,\u001b[49m\u001b[43msplit\u001b[49m\u001b[38;5;241;43m=\u001b[39;49m\u001b[38;5;124;43m'\u001b[39;49m\u001b[38;5;124;43mtrain\u001b[39;49m\u001b[38;5;124;43m'\u001b[39;49m\u001b[43m,\u001b[49m\u001b[43mdownload\u001b[49m\u001b[38;5;241;43m=\u001b[39;49m\u001b[38;5;28;43;01mTrue\u001b[39;49;00m\u001b[43m)\u001b[49m\n",
      "File \u001b[1;32mc:\\Users\\vuanh\\anaconda3\\envs\\llama\\lib\\site-packages\\torchvision\\datasets\\kinetics.py:134\u001b[0m, in \u001b[0;36mKinetics.__init__\u001b[1;34m(self, root, frames_per_clip, num_classes, split, frame_rate, step_between_clips, transform, extensions, download, num_download_workers, num_workers, _precomputed_metadata, _video_width, _video_height, _video_min_dimension, _audio_samples, _audio_channels, _legacy, output_format)\u001b[0m\n\u001b[0;32m    131\u001b[0m     \u001b[38;5;28mself\u001b[39m\u001b[38;5;241m.\u001b[39msplit \u001b[38;5;241m=\u001b[39m verify_str_arg(split, arg\u001b[38;5;241m=\u001b[39m\u001b[38;5;124m\"\u001b[39m\u001b[38;5;124msplit\u001b[39m\u001b[38;5;124m\"\u001b[39m, valid_values\u001b[38;5;241m=\u001b[39m[\u001b[38;5;124m\"\u001b[39m\u001b[38;5;124mtrain\u001b[39m\u001b[38;5;124m\"\u001b[39m, \u001b[38;5;124m\"\u001b[39m\u001b[38;5;124mval\u001b[39m\u001b[38;5;124m\"\u001b[39m, \u001b[38;5;124m\"\u001b[39m\u001b[38;5;124mtest\u001b[39m\u001b[38;5;124m\"\u001b[39m])\n\u001b[0;32m    133\u001b[0m \u001b[38;5;28;01mif\u001b[39;00m download:\n\u001b[1;32m--> 134\u001b[0m     \u001b[38;5;28;43mself\u001b[39;49m\u001b[38;5;241;43m.\u001b[39;49m\u001b[43mdownload_and_process_videos\u001b[49m\u001b[43m(\u001b[49m\u001b[43m)\u001b[49m\n\u001b[0;32m    136\u001b[0m \u001b[38;5;28msuper\u001b[39m()\u001b[38;5;241m.\u001b[39m\u001b[38;5;21m__init__\u001b[39m(\u001b[38;5;28mself\u001b[39m\u001b[38;5;241m.\u001b[39mroot)\n\u001b[0;32m    138\u001b[0m \u001b[38;5;28mself\u001b[39m\u001b[38;5;241m.\u001b[39mclasses, class_to_idx \u001b[38;5;241m=\u001b[39m find_classes(\u001b[38;5;28mself\u001b[39m\u001b[38;5;241m.\u001b[39msplit_folder)\n",
      "File \u001b[1;32mc:\\Users\\vuanh\\anaconda3\\envs\\llama\\lib\\site-packages\\torchvision\\datasets\\kinetics.py:160\u001b[0m, in \u001b[0;36mKinetics.download_and_process_videos\u001b[1;34m(self)\u001b[0m\n\u001b[0;32m    158\u001b[0m \u001b[38;5;250m\u001b[39m\u001b[38;5;124;03m\"\"\"Downloads all the videos to the _root_ folder in the expected format.\"\"\"\u001b[39;00m\n\u001b[0;32m    159\u001b[0m tic \u001b[38;5;241m=\u001b[39m time\u001b[38;5;241m.\u001b[39mtime()\n\u001b[1;32m--> 160\u001b[0m \u001b[38;5;28;43mself\u001b[39;49m\u001b[38;5;241;43m.\u001b[39;49m\u001b[43m_download_videos\u001b[49m\u001b[43m(\u001b[49m\u001b[43m)\u001b[49m\n\u001b[0;32m    161\u001b[0m toc \u001b[38;5;241m=\u001b[39m time\u001b[38;5;241m.\u001b[39mtime()\n\u001b[0;32m    162\u001b[0m \u001b[38;5;28mprint\u001b[39m(\u001b[38;5;124m\"\u001b[39m\u001b[38;5;124mElapsed time for downloading in mins \u001b[39m\u001b[38;5;124m\"\u001b[39m, (toc \u001b[38;5;241m-\u001b[39m tic) \u001b[38;5;241m/\u001b[39m \u001b[38;5;241m60\u001b[39m)\n",
      "File \u001b[1;32mc:\\Users\\vuanh\\anaconda3\\envs\\llama\\lib\\site-packages\\torchvision\\datasets\\kinetics.py:192\u001b[0m, in \u001b[0;36mKinetics._download_videos\u001b[1;34m(self)\u001b[0m\n\u001b[0;32m    190\u001b[0m \u001b[38;5;28;01mif\u001b[39;00m \u001b[38;5;28mself\u001b[39m\u001b[38;5;241m.\u001b[39mnum_download_workers \u001b[38;5;241m==\u001b[39m \u001b[38;5;241m1\u001b[39m:\n\u001b[0;32m    191\u001b[0m     \u001b[38;5;28;01mfor\u001b[39;00m line \u001b[38;5;129;01min\u001b[39;00m list_video_urls:\n\u001b[1;32m--> 192\u001b[0m         \u001b[43mdownload_and_extract_archive\u001b[49m\u001b[43m(\u001b[49m\u001b[43mline\u001b[49m\u001b[43m,\u001b[49m\u001b[43m \u001b[49m\u001b[43mtar_path\u001b[49m\u001b[43m,\u001b[49m\u001b[43m \u001b[49m\u001b[38;5;28;43mself\u001b[39;49m\u001b[38;5;241;43m.\u001b[39;49m\u001b[43msplit_folder\u001b[49m\u001b[43m)\u001b[49m\n\u001b[0;32m    193\u001b[0m \u001b[38;5;28;01melse\u001b[39;00m:\n\u001b[0;32m    194\u001b[0m     part \u001b[38;5;241m=\u001b[39m partial(_dl_wrap, tar_path, \u001b[38;5;28mself\u001b[39m\u001b[38;5;241m.\u001b[39msplit_folder)\n",
      "File \u001b[1;32mc:\\Users\\vuanh\\anaconda3\\envs\\llama\\lib\\site-packages\\torchvision\\datasets\\utils.py:434\u001b[0m, in \u001b[0;36mdownload_and_extract_archive\u001b[1;34m(url, download_root, extract_root, filename, md5, remove_finished)\u001b[0m\n\u001b[0;32m    431\u001b[0m \u001b[38;5;28;01mif\u001b[39;00m \u001b[38;5;129;01mnot\u001b[39;00m filename:\n\u001b[0;32m    432\u001b[0m     filename \u001b[38;5;241m=\u001b[39m os\u001b[38;5;241m.\u001b[39mpath\u001b[38;5;241m.\u001b[39mbasename(url)\n\u001b[1;32m--> 434\u001b[0m \u001b[43mdownload_url\u001b[49m\u001b[43m(\u001b[49m\u001b[43murl\u001b[49m\u001b[43m,\u001b[49m\u001b[43m \u001b[49m\u001b[43mdownload_root\u001b[49m\u001b[43m,\u001b[49m\u001b[43m \u001b[49m\u001b[43mfilename\u001b[49m\u001b[43m,\u001b[49m\u001b[43m \u001b[49m\u001b[43mmd5\u001b[49m\u001b[43m)\u001b[49m\n\u001b[0;32m    436\u001b[0m archive \u001b[38;5;241m=\u001b[39m os\u001b[38;5;241m.\u001b[39mpath\u001b[38;5;241m.\u001b[39mjoin(download_root, filename)\n\u001b[0;32m    437\u001b[0m \u001b[38;5;28mprint\u001b[39m(\u001b[38;5;124mf\u001b[39m\u001b[38;5;124m\"\u001b[39m\u001b[38;5;124mExtracting \u001b[39m\u001b[38;5;132;01m{\u001b[39;00marchive\u001b[38;5;132;01m}\u001b[39;00m\u001b[38;5;124m to \u001b[39m\u001b[38;5;132;01m{\u001b[39;00mextract_root\u001b[38;5;132;01m}\u001b[39;00m\u001b[38;5;124m\"\u001b[39m)\n",
      "File \u001b[1;32mc:\\Users\\vuanh\\anaconda3\\envs\\llama\\lib\\site-packages\\torchvision\\datasets\\utils.py:144\u001b[0m, in \u001b[0;36mdownload_url\u001b[1;34m(url, root, filename, md5, max_redirect_hops)\u001b[0m\n\u001b[0;32m    142\u001b[0m \u001b[38;5;28;01mtry\u001b[39;00m:\n\u001b[0;32m    143\u001b[0m     \u001b[38;5;28mprint\u001b[39m(\u001b[38;5;124m\"\u001b[39m\u001b[38;5;124mDownloading \u001b[39m\u001b[38;5;124m\"\u001b[39m \u001b[38;5;241m+\u001b[39m url \u001b[38;5;241m+\u001b[39m \u001b[38;5;124m\"\u001b[39m\u001b[38;5;124m to \u001b[39m\u001b[38;5;124m\"\u001b[39m \u001b[38;5;241m+\u001b[39m fpath)\n\u001b[1;32m--> 144\u001b[0m     \u001b[43m_urlretrieve\u001b[49m\u001b[43m(\u001b[49m\u001b[43murl\u001b[49m\u001b[43m,\u001b[49m\u001b[43m \u001b[49m\u001b[43mfpath\u001b[49m\u001b[43m)\u001b[49m\n\u001b[0;32m    145\u001b[0m \u001b[38;5;28;01mexcept\u001b[39;00m (urllib\u001b[38;5;241m.\u001b[39merror\u001b[38;5;241m.\u001b[39mURLError, \u001b[38;5;167;01mOSError\u001b[39;00m) \u001b[38;5;28;01mas\u001b[39;00m e:  \u001b[38;5;66;03m# type: ignore[attr-defined]\u001b[39;00m\n\u001b[0;32m    146\u001b[0m     \u001b[38;5;28;01mif\u001b[39;00m url[:\u001b[38;5;241m5\u001b[39m] \u001b[38;5;241m==\u001b[39m \u001b[38;5;124m\"\u001b[39m\u001b[38;5;124mhttps\u001b[39m\u001b[38;5;124m\"\u001b[39m:\n",
      "File \u001b[1;32mc:\\Users\\vuanh\\anaconda3\\envs\\llama\\lib\\site-packages\\torchvision\\datasets\\utils.py:48\u001b[0m, in \u001b[0;36m_urlretrieve\u001b[1;34m(url, filename, chunk_size)\u001b[0m\n\u001b[0;32m     46\u001b[0m \u001b[38;5;28;01mdef\u001b[39;00m \u001b[38;5;21m_urlretrieve\u001b[39m(url: \u001b[38;5;28mstr\u001b[39m, filename: \u001b[38;5;28mstr\u001b[39m, chunk_size: \u001b[38;5;28mint\u001b[39m \u001b[38;5;241m=\u001b[39m \u001b[38;5;241m1024\u001b[39m \u001b[38;5;241m*\u001b[39m \u001b[38;5;241m32\u001b[39m) \u001b[38;5;241m-\u001b[39m\u001b[38;5;241m>\u001b[39m \u001b[38;5;28;01mNone\u001b[39;00m:\n\u001b[0;32m     47\u001b[0m     \u001b[38;5;28;01mwith\u001b[39;00m urllib\u001b[38;5;241m.\u001b[39mrequest\u001b[38;5;241m.\u001b[39murlopen(urllib\u001b[38;5;241m.\u001b[39mrequest\u001b[38;5;241m.\u001b[39mRequest(url, headers\u001b[38;5;241m=\u001b[39m{\u001b[38;5;124m\"\u001b[39m\u001b[38;5;124mUser-Agent\u001b[39m\u001b[38;5;124m\"\u001b[39m: USER_AGENT})) \u001b[38;5;28;01mas\u001b[39;00m response:\n\u001b[1;32m---> 48\u001b[0m         \u001b[43m_save_response_content\u001b[49m\u001b[43m(\u001b[49m\u001b[38;5;28;43miter\u001b[39;49m\u001b[43m(\u001b[49m\u001b[38;5;28;43;01mlambda\u001b[39;49;00m\u001b[43m:\u001b[49m\u001b[43m \u001b[49m\u001b[43mresponse\u001b[49m\u001b[38;5;241;43m.\u001b[39;49m\u001b[43mread\u001b[49m\u001b[43m(\u001b[49m\u001b[43mchunk_size\u001b[49m\u001b[43m)\u001b[49m\u001b[43m,\u001b[49m\u001b[43m \u001b[49m\u001b[38;5;124;43mb\u001b[39;49m\u001b[38;5;124;43m\"\u001b[39;49m\u001b[38;5;124;43m\"\u001b[39;49m\u001b[43m)\u001b[49m\u001b[43m,\u001b[49m\u001b[43m \u001b[49m\u001b[43mfilename\u001b[49m\u001b[43m,\u001b[49m\u001b[43m \u001b[49m\u001b[43mlength\u001b[49m\u001b[38;5;241;43m=\u001b[39;49m\u001b[43mresponse\u001b[49m\u001b[38;5;241;43m.\u001b[39;49m\u001b[43mlength\u001b[49m\u001b[43m)\u001b[49m\n",
      "File \u001b[1;32mc:\\Users\\vuanh\\anaconda3\\envs\\llama\\lib\\site-packages\\torchvision\\datasets\\utils.py:37\u001b[0m, in \u001b[0;36m_save_response_content\u001b[1;34m(content, destination, length)\u001b[0m\n\u001b[0;32m     31\u001b[0m \u001b[38;5;28;01mdef\u001b[39;00m \u001b[38;5;21m_save_response_content\u001b[39m(\n\u001b[0;32m     32\u001b[0m     content: Iterator[\u001b[38;5;28mbytes\u001b[39m],\n\u001b[0;32m     33\u001b[0m     destination: \u001b[38;5;28mstr\u001b[39m,\n\u001b[0;32m     34\u001b[0m     length: Optional[\u001b[38;5;28mint\u001b[39m] \u001b[38;5;241m=\u001b[39m \u001b[38;5;28;01mNone\u001b[39;00m,\n\u001b[0;32m     35\u001b[0m ) \u001b[38;5;241m-\u001b[39m\u001b[38;5;241m>\u001b[39m \u001b[38;5;28;01mNone\u001b[39;00m:\n\u001b[0;32m     36\u001b[0m     \u001b[38;5;28;01mwith\u001b[39;00m \u001b[38;5;28mopen\u001b[39m(destination, \u001b[38;5;124m\"\u001b[39m\u001b[38;5;124mwb\u001b[39m\u001b[38;5;124m\"\u001b[39m) \u001b[38;5;28;01mas\u001b[39;00m fh, tqdm(total\u001b[38;5;241m=\u001b[39mlength) \u001b[38;5;28;01mas\u001b[39;00m pbar:\n\u001b[1;32m---> 37\u001b[0m         \u001b[38;5;28;01mfor\u001b[39;00m chunk \u001b[38;5;129;01min\u001b[39;00m content:\n\u001b[0;32m     38\u001b[0m             \u001b[38;5;66;03m# filter out keep-alive new chunks\u001b[39;00m\n\u001b[0;32m     39\u001b[0m             \u001b[38;5;28;01mif\u001b[39;00m \u001b[38;5;129;01mnot\u001b[39;00m chunk:\n\u001b[0;32m     40\u001b[0m                 \u001b[38;5;28;01mcontinue\u001b[39;00m\n",
      "File \u001b[1;32mc:\\Users\\vuanh\\anaconda3\\envs\\llama\\lib\\site-packages\\torchvision\\datasets\\utils.py:48\u001b[0m, in \u001b[0;36m_urlretrieve.<locals>.<lambda>\u001b[1;34m()\u001b[0m\n\u001b[0;32m     46\u001b[0m \u001b[38;5;28;01mdef\u001b[39;00m \u001b[38;5;21m_urlretrieve\u001b[39m(url: \u001b[38;5;28mstr\u001b[39m, filename: \u001b[38;5;28mstr\u001b[39m, chunk_size: \u001b[38;5;28mint\u001b[39m \u001b[38;5;241m=\u001b[39m \u001b[38;5;241m1024\u001b[39m \u001b[38;5;241m*\u001b[39m \u001b[38;5;241m32\u001b[39m) \u001b[38;5;241m-\u001b[39m\u001b[38;5;241m>\u001b[39m \u001b[38;5;28;01mNone\u001b[39;00m:\n\u001b[0;32m     47\u001b[0m     \u001b[38;5;28;01mwith\u001b[39;00m urllib\u001b[38;5;241m.\u001b[39mrequest\u001b[38;5;241m.\u001b[39murlopen(urllib\u001b[38;5;241m.\u001b[39mrequest\u001b[38;5;241m.\u001b[39mRequest(url, headers\u001b[38;5;241m=\u001b[39m{\u001b[38;5;124m\"\u001b[39m\u001b[38;5;124mUser-Agent\u001b[39m\u001b[38;5;124m\"\u001b[39m: USER_AGENT})) \u001b[38;5;28;01mas\u001b[39;00m response:\n\u001b[1;32m---> 48\u001b[0m         _save_response_content(\u001b[38;5;28miter\u001b[39m(\u001b[38;5;28;01mlambda\u001b[39;00m: \u001b[43mresponse\u001b[49m\u001b[38;5;241;43m.\u001b[39;49m\u001b[43mread\u001b[49m\u001b[43m(\u001b[49m\u001b[43mchunk_size\u001b[49m\u001b[43m)\u001b[49m, \u001b[38;5;124mb\u001b[39m\u001b[38;5;124m\"\u001b[39m\u001b[38;5;124m\"\u001b[39m), filename, length\u001b[38;5;241m=\u001b[39mresponse\u001b[38;5;241m.\u001b[39mlength)\n",
      "File \u001b[1;32mc:\\Users\\vuanh\\anaconda3\\envs\\llama\\lib\\http\\client.py:466\u001b[0m, in \u001b[0;36mHTTPResponse.read\u001b[1;34m(self, amt)\u001b[0m\n\u001b[0;32m    463\u001b[0m \u001b[38;5;28;01mif\u001b[39;00m \u001b[38;5;28mself\u001b[39m\u001b[38;5;241m.\u001b[39mlength \u001b[38;5;129;01mis\u001b[39;00m \u001b[38;5;129;01mnot\u001b[39;00m \u001b[38;5;28;01mNone\u001b[39;00m \u001b[38;5;129;01mand\u001b[39;00m amt \u001b[38;5;241m>\u001b[39m \u001b[38;5;28mself\u001b[39m\u001b[38;5;241m.\u001b[39mlength:\n\u001b[0;32m    464\u001b[0m     \u001b[38;5;66;03m# clip the read to the \"end of response\"\u001b[39;00m\n\u001b[0;32m    465\u001b[0m     amt \u001b[38;5;241m=\u001b[39m \u001b[38;5;28mself\u001b[39m\u001b[38;5;241m.\u001b[39mlength\n\u001b[1;32m--> 466\u001b[0m s \u001b[38;5;241m=\u001b[39m \u001b[38;5;28;43mself\u001b[39;49m\u001b[38;5;241;43m.\u001b[39;49m\u001b[43mfp\u001b[49m\u001b[38;5;241;43m.\u001b[39;49m\u001b[43mread\u001b[49m\u001b[43m(\u001b[49m\u001b[43mamt\u001b[49m\u001b[43m)\u001b[49m\n\u001b[0;32m    467\u001b[0m \u001b[38;5;28;01mif\u001b[39;00m \u001b[38;5;129;01mnot\u001b[39;00m s \u001b[38;5;129;01mand\u001b[39;00m amt:\n\u001b[0;32m    468\u001b[0m     \u001b[38;5;66;03m# Ideally, we would raise IncompleteRead if the content-length\u001b[39;00m\n\u001b[0;32m    469\u001b[0m     \u001b[38;5;66;03m# wasn't satisfied, but it might break compatibility.\u001b[39;00m\n\u001b[0;32m    470\u001b[0m     \u001b[38;5;28mself\u001b[39m\u001b[38;5;241m.\u001b[39m_close_conn()\n",
      "File \u001b[1;32mc:\\Users\\vuanh\\anaconda3\\envs\\llama\\lib\\socket.py:705\u001b[0m, in \u001b[0;36mSocketIO.readinto\u001b[1;34m(self, b)\u001b[0m\n\u001b[0;32m    703\u001b[0m \u001b[38;5;28;01mwhile\u001b[39;00m \u001b[38;5;28;01mTrue\u001b[39;00m:\n\u001b[0;32m    704\u001b[0m     \u001b[38;5;28;01mtry\u001b[39;00m:\n\u001b[1;32m--> 705\u001b[0m         \u001b[38;5;28;01mreturn\u001b[39;00m \u001b[38;5;28;43mself\u001b[39;49m\u001b[38;5;241;43m.\u001b[39;49m\u001b[43m_sock\u001b[49m\u001b[38;5;241;43m.\u001b[39;49m\u001b[43mrecv_into\u001b[49m\u001b[43m(\u001b[49m\u001b[43mb\u001b[49m\u001b[43m)\u001b[49m\n\u001b[0;32m    706\u001b[0m     \u001b[38;5;28;01mexcept\u001b[39;00m timeout:\n\u001b[0;32m    707\u001b[0m         \u001b[38;5;28mself\u001b[39m\u001b[38;5;241m.\u001b[39m_timeout_occurred \u001b[38;5;241m=\u001b[39m \u001b[38;5;28;01mTrue\u001b[39;00m\n",
      "File \u001b[1;32mc:\\Users\\vuanh\\anaconda3\\envs\\llama\\lib\\ssl.py:1307\u001b[0m, in \u001b[0;36mSSLSocket.recv_into\u001b[1;34m(self, buffer, nbytes, flags)\u001b[0m\n\u001b[0;32m   1303\u001b[0m     \u001b[38;5;28;01mif\u001b[39;00m flags \u001b[38;5;241m!=\u001b[39m \u001b[38;5;241m0\u001b[39m:\n\u001b[0;32m   1304\u001b[0m         \u001b[38;5;28;01mraise\u001b[39;00m \u001b[38;5;167;01mValueError\u001b[39;00m(\n\u001b[0;32m   1305\u001b[0m           \u001b[38;5;124m\"\u001b[39m\u001b[38;5;124mnon-zero flags not allowed in calls to recv_into() on \u001b[39m\u001b[38;5;132;01m%s\u001b[39;00m\u001b[38;5;124m\"\u001b[39m \u001b[38;5;241m%\u001b[39m\n\u001b[0;32m   1306\u001b[0m           \u001b[38;5;28mself\u001b[39m\u001b[38;5;241m.\u001b[39m\u001b[38;5;18m__class__\u001b[39m)\n\u001b[1;32m-> 1307\u001b[0m     \u001b[38;5;28;01mreturn\u001b[39;00m \u001b[38;5;28;43mself\u001b[39;49m\u001b[38;5;241;43m.\u001b[39;49m\u001b[43mread\u001b[49m\u001b[43m(\u001b[49m\u001b[43mnbytes\u001b[49m\u001b[43m,\u001b[49m\u001b[43m \u001b[49m\u001b[43mbuffer\u001b[49m\u001b[43m)\u001b[49m\n\u001b[0;32m   1308\u001b[0m \u001b[38;5;28;01melse\u001b[39;00m:\n\u001b[0;32m   1309\u001b[0m     \u001b[38;5;28;01mreturn\u001b[39;00m \u001b[38;5;28msuper\u001b[39m()\u001b[38;5;241m.\u001b[39mrecv_into(buffer, nbytes, flags)\n",
      "File \u001b[1;32mc:\\Users\\vuanh\\anaconda3\\envs\\llama\\lib\\ssl.py:1163\u001b[0m, in \u001b[0;36mSSLSocket.read\u001b[1;34m(self, len, buffer)\u001b[0m\n\u001b[0;32m   1161\u001b[0m \u001b[38;5;28;01mtry\u001b[39;00m:\n\u001b[0;32m   1162\u001b[0m     \u001b[38;5;28;01mif\u001b[39;00m buffer \u001b[38;5;129;01mis\u001b[39;00m \u001b[38;5;129;01mnot\u001b[39;00m \u001b[38;5;28;01mNone\u001b[39;00m:\n\u001b[1;32m-> 1163\u001b[0m         \u001b[38;5;28;01mreturn\u001b[39;00m \u001b[38;5;28;43mself\u001b[39;49m\u001b[38;5;241;43m.\u001b[39;49m\u001b[43m_sslobj\u001b[49m\u001b[38;5;241;43m.\u001b[39;49m\u001b[43mread\u001b[49m\u001b[43m(\u001b[49m\u001b[38;5;28;43mlen\u001b[39;49m\u001b[43m,\u001b[49m\u001b[43m \u001b[49m\u001b[43mbuffer\u001b[49m\u001b[43m)\u001b[49m\n\u001b[0;32m   1164\u001b[0m     \u001b[38;5;28;01melse\u001b[39;00m:\n\u001b[0;32m   1165\u001b[0m         \u001b[38;5;28;01mreturn\u001b[39;00m \u001b[38;5;28mself\u001b[39m\u001b[38;5;241m.\u001b[39m_sslobj\u001b[38;5;241m.\u001b[39mread(\u001b[38;5;28mlen\u001b[39m)\n",
      "\u001b[1;31mKeyboardInterrupt\u001b[0m: "
     ]
    }
   ],
   "source": [
    "import torchvision\n",
    "\n",
    "torchvision.datasets.Kinetics(root='./data-train-download',frames_per_clip=5,step_between_clips=5,num_classes='400',split='train',download=True)"
   ]
  }
 ],
 "metadata": {
  "kernelspec": {
   "display_name": "llama",
   "language": "python",
   "name": "python3"
  },
  "language_info": {
   "codemirror_mode": {
    "name": "ipython",
    "version": 3
   },
   "file_extension": ".py",
   "mimetype": "text/x-python",
   "name": "python",
   "nbconvert_exporter": "python",
   "pygments_lexer": "ipython3",
   "version": "3.10.13"
  }
 },
 "nbformat": 4,
 "nbformat_minor": 2
}
