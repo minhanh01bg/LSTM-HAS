{
 "cells": [
  {
   "cell_type": "code",
   "execution_count": 9,
   "metadata": {},
   "outputs": [],
   "source": [
    "import tensorflow as tf\n",
    "import numpy as np\n",
    "import matplotlib.pyplot as plt\n",
    "import pandas as pd\n",
    "import cv2 \n",
    "import sklearn\n",
    "from sklearn.model_selection import train_test_split"
   ]
  },
  {
   "cell_type": "code",
   "execution_count": 10,
   "metadata": {},
   "outputs": [],
   "source": [
    "import os\n",
    "# os.environ['CUDA_VISIBLE_DEVICES'] = '-1'"
   ]
  },
  {
   "cell_type": "code",
   "execution_count": 11,
   "metadata": {},
   "outputs": [
    {
     "name": "stdout",
     "output_type": "stream",
     "text": [
      "Num GPUs Available:  1\n",
      "2.10.0\n"
     ]
    }
   ],
   "source": [
    "print(\"Num GPUs Available: \", len(tf.config.list_physical_devices('GPU')))\n",
    "print(tf.__version__)"
   ]
  },
  {
   "cell_type": "code",
   "execution_count": 12,
   "metadata": {},
   "outputs": [
    {
     "data": {
      "text/plain": [
       "True"
      ]
     },
     "execution_count": 12,
     "metadata": {},
     "output_type": "execute_result"
    }
   ],
   "source": [
    "tf.test.is_gpu_available(\n",
    "    cuda_only=False, min_cuda_compute_capability=None\n",
    ")"
   ]
  },
  {
   "cell_type": "code",
   "execution_count": 13,
   "metadata": {},
   "outputs": [],
   "source": [
    "def define_model_vgg16_lstm():\n",
    "    # define model\n",
    "    model = tf.keras.models.Sequential()\n",
    "    model.add(tf.keras.layers.TimeDistributed(tf.keras.applications.vgg16.VGG16(include_top=False, weights='imagenet', pooling='avg'), input_shape=(None, 224, 224, 3)))\n",
    "    model.add(tf.keras.layers.LSTM(128, return_sequences=True))\n",
    "    model.add(tf.keras.layers.LSTM(128))\n",
    "    model.add(tf.keras.layers.Dense(128, activation='relu'))\n",
    "    model.add(tf.keras.layers.Dense(2, activation='softmax'))\n",
    "    # compile model\n",
    "    model.compile(optimizer='adam', loss='sparse_categorical_crossentropy', metrics=['accuracy'])\n",
    "    # summarize model\n",
    "    model.summary()\n",
    "    return model\n",
    "\n",
    "def define_model_cnn_lstm():\n",
    "    # define model\n",
    "    model = tf.keras.models.Sequential()\n",
    "    model.add(tf.keras.layers.TimeDistributed(tf.keras.layers.Conv2D(64, (3, 3), activation='relu'), input_shape=(None, 224, 224, 3)))\n",
    "    model.add(tf.keras.layers.TimeDistributed(tf.keras.layers.MaxPooling2D((2, 2))))\n",
    "    model.add(tf.keras.layers.TimeDistributed(tf.keras.layers.Conv2D(64, (3, 3), activation='relu')))\n",
    "    model.add(tf.keras.layers.TimeDistributed(tf.keras.layers.MaxPooling2D((2, 2))))\n",
    "    model.add(tf.keras.layers.TimeDistributed(tf.keras.layers.Conv2D(64, (3, 3), activation='relu')))\n",
    "    model.add(tf.keras.layers.TimeDistributed(tf.keras.layers.MaxPooling2D((2, 2))))\n",
    "    model.add(tf.keras.layers.TimeDistributed(tf.keras.layers.Flatten()))\n",
    "    model.add(tf.keras.layers.LSTM(128, return_sequences=True))\n",
    "    model.add(tf.keras.layers.LSTM(128))\n",
    "    model.add(tf.keras.layers.Dense(128, activation='relu'))\n",
    "    model.add(tf.keras.layers.Dense(2, activation='softmax'))\n",
    "    # compile model\n",
    "    model.compile(optimizer='adam', loss='sparse_categorical_crossentropy', metrics=['accuracy'])\n",
    "    # summarize model\n",
    "    model.summary()\n",
    "    return model"
   ]
  },
  {
   "cell_type": "code",
   "execution_count": 14,
   "metadata": {},
   "outputs": [],
   "source": [
    "from sklearn.preprocessing import LabelEncoder\n",
    "\n",
    "# Tạo một đối tượng LabelEncoder\n",
    "label_encoder = LabelEncoder()\n"
   ]
  },
  {
   "cell_type": "code",
   "execution_count": 15,
   "metadata": {},
   "outputs": [],
   "source": [
    "# 27430 video 10s \n",
    "def load_data():\n",
    "    video_path = './data/test/'\n",
    "    annotation_path = './data/label_2.csv'\n",
    "    annotation_read = pd.read_csv(annotation_path)\n",
    "    label = annotation_read['label'].values\n",
    "    name = annotation_read['name'].values\n",
    "    video = []\n",
    "    for i in range(len(name)):\n",
    "        video.append(video_path + name[i] + '.mp4')\n",
    "        \n",
    "    return video, label\n",
    "\n",
    "def load_video(video_path):\n",
    "    cap = cv2.VideoCapture(video_path)\n",
    "    frames = []\n",
    "    cnt = 0\n",
    "    while True:\n",
    "        ret, frame = cap.read()\n",
    "        cnt += 1\n",
    "        if cnt % 10 == 0:\n",
    "            if ret:\n",
    "                frame = cv2.resize(frame, (224, 224))\n",
    "                frame = cv2.cvtColor(frame, cv2.COLOR_BGR2RGB)\n",
    "                frames.append(frame)\n",
    "            else:\n",
    "                break\n",
    "    cap.release()\n",
    "    if len(frames) == 0:\n",
    "        print(1)\n",
    "    return np.array(frames)\n",
    "\n",
    "class DataGenerator(tf.keras.utils.Sequence):\n",
    "    'Generates data for Keras'\n",
    "    def __init__(self, list_IDs, labels, batch_size=1, dim=(224,224), n_channels=3,\n",
    "                 n_classes=400, shuffle=True):\n",
    "        'Initialization'\n",
    "        self.dim = dim\n",
    "        self.batch_size = batch_size\n",
    "        self.labels = labels\n",
    "        self.list_IDs = list_IDs\n",
    "        self.n_channels = n_channels\n",
    "        self.n_classes = n_classes\n",
    "        self.shuffle = shuffle\n",
    "        # self.on_epoch_end()\n",
    "        \n",
    "    def __len__(self):\n",
    "        'Denotes the number of batches per epoch'\n",
    "        return len(self.list_IDs)\n",
    "    \n",
    "    def __getitem__(self, index):\n",
    "        'Generate one batch of data'\n",
    "        batch_x = self.list_IDs[index * self.batch_size:(index + 1) * self.batch_size]\n",
    "        batch_y = self.labels[index * self.batch_size:(index + 1) * self.batch_size]\n",
    "        \n",
    "        train_video = []\n",
    "        train_label = []\n",
    "        for i in range(len(batch_x)):\n",
    "            frames = load_video(batch_x[i])\n",
    "            train_video.append(frames)\n",
    "            train_label.append(batch_y[i])\n",
    "        return np.array(train_video), np.array(train_label)\n"
   ]
  },
  {
   "cell_type": "code",
   "execution_count": 16,
   "metadata": {},
   "outputs": [
    {
     "name": "stdout",
     "output_type": "stream",
     "text": [
      "Model: \"sequential_1\"\n",
      "_________________________________________________________________\n",
      " Layer (type)                Output Shape              Param #   \n",
      "=================================================================\n",
      " time_distributed_1 (TimeDis  (None, None, 512)        14714688  \n",
      " tributed)                                                       \n",
      "                                                                 \n",
      " lstm_2 (LSTM)               (None, None, 128)         328192    \n",
      "                                                                 \n",
      " lstm_3 (LSTM)               (None, 128)               131584    \n",
      "                                                                 \n",
      " dense_2 (Dense)             (None, 128)               16512     \n",
      "                                                                 \n",
      " dense_3 (Dense)             (None, 2)                 258       \n",
      "                                                                 \n",
      "=================================================================\n",
      "Total params: 15,191,234\n",
      "Trainable params: 15,191,234\n",
      "Non-trainable params: 0\n",
      "_________________________________________________________________\n",
      "Epoch 1/5\n",
      "100/100 [==============================] - 55s 489ms/step - loss: 0.7574 - accuracy: 0.4600\n",
      "Epoch 2/5\n",
      "100/100 [==============================] - 30s 300ms/step - loss: 0.7040 - accuracy: 0.5100\n",
      "Epoch 3/5\n",
      "100/100 [==============================] - 30s 299ms/step - loss: 0.7089 - accuracy: 0.4600\n",
      "Epoch 4/5\n",
      "100/100 [==============================] - 30s 298ms/step - loss: 0.7063 - accuracy: 0.5100\n",
      "Epoch 5/5\n",
      "100/100 [==============================] - 31s 304ms/step - loss: 0.6949 - accuracy: 0.4800\n"
     ]
    }
   ],
   "source": [
    "# def main():\n",
    "    # data\n",
    "video, label = load_data()\n",
    "video_train, video_test, label_train, label_test = train_test_split(video, label, test_size=0.4)\n",
    "label_train = label_encoder.fit_transform(label_train)\n",
    "label_test = label_encoder.transform(label_test)\n",
    "# data_gen = DataGenerator(video, label, batch_size=1)\n",
    "data_gen_train = DataGenerator(video_train, label_train, batch_size=1)\n",
    "data_gen_test = DataGenerator(video_test, label_test, batch_size=1)\n",
    "# x_train, y_train = data_gen.__getitem__(0)\n",
    "# print(x_train.shape)\n",
    "# model\n",
    "model = define_model_vgg16_lstm()\n",
    "# train model\n",
    "\n",
    "model.fit(data_gen_train,\n",
    "                    # validation_data=data_gen_test,\n",
    "                    epochs=5,batch_size=4)\n",
    "\n",
    "# save model\n",
    "model.save('./model/model.h5')\n",
    "    \n",
    "# if __name__ == '__main__':\n",
    "#     main()"
   ]
  },
  {
   "cell_type": "code",
   "execution_count": 17,
   "metadata": {},
   "outputs": [
    {
     "name": "stdout",
     "output_type": "stream",
     "text": [
      "61/67 [==========================>...] - ETA: 1s - loss: 0.6985 - accuracy: 0.4918"
     ]
    }
   ],
   "source": [
    "model.evaluate(data_gen_test)\n",
    "print(model.metrics_names)"
   ]
  }
 ],
 "metadata": {
  "kernelspec": {
   "display_name": "tensor",
   "language": "python",
   "name": "python3"
  },
  "language_info": {
   "codemirror_mode": {
    "name": "ipython",
    "version": 3
   },
   "file_extension": ".py",
   "mimetype": "text/x-python",
   "name": "python",
   "nbconvert_exporter": "python",
   "pygments_lexer": "ipython3",
   "version": "3.10.6"
  }
 },
 "nbformat": 4,
 "nbformat_minor": 2
}
